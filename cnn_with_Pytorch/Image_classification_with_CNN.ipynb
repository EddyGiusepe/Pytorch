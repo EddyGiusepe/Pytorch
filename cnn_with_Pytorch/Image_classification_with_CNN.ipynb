{
 "cells": [
  {
   "cell_type": "markdown",
   "metadata": {},
   "source": [
    "<h1 align=\"center\">CNN para classificação de imagens</h1>"
   ]
  },
  {
   "cell_type": "markdown",
   "metadata": {},
   "source": [
    "Data Scientist.: Dr.Eddy Giusepe Chirinos Isidro"
   ]
  },
  {
   "cell_type": "markdown",
   "metadata": {},
   "source": [
    "Link de estudo:\n",
    "\n",
    "* [Image Classification using Transfer Learning in PyTorch](https://learnopencv.com/image-classification-using-transfer-learning-in-pytorch/)"
   ]
  },
  {
   "cell_type": "markdown",
   "metadata": {},
   "source": [
    "# Importando as nossas bibliotecas"
   ]
  },
  {
   "cell_type": "code",
   "execution_count": 24,
   "metadata": {},
   "outputs": [],
   "source": [
    "import os\n",
    "\n",
    "import numpy as np\n",
    "import pandas as pd\n",
    "\n",
    "import PIL.Image\n",
    "\n",
    "import torch, torchvision\n",
    "from torchvision import datasets, models, transforms\n",
    "from torchvision.models import alexnet\n",
    "from torch.utils.data import DataLoader\n",
    "import torch.nn as nn\n",
    "import torch.optim as optim\n",
    "import time\n",
    "\n",
    "from matplotlib import pyplot as plt\n"
   ]
  },
  {
   "cell_type": "markdown",
   "metadata": {},
   "source": [
    "# Re-dimensionamos nossas Imagens"
   ]
  },
  {
   "cell_type": "markdown",
   "metadata": {},
   "source": [
    "Lembrar que para modelos mais robustos considere em aplicar `Data augmentation`, `Rotações da imagem`, `Espelhamento`, `Crop randómico`, etc."
   ]
  },
  {
   "cell_type": "code",
   "execution_count": 25,
   "metadata": {},
   "outputs": [],
   "source": [
    "# Aqui apenas vamos a re-dimensionar as nossas imagens: 100x100\n",
    "\n",
    "image_size = 100\n",
    "transformacoes_de_imagens = { \n",
    "    'treino': transforms.Compose([\n",
    "        transforms.Resize(size=[image_size, image_size]),\n",
    "        transforms.ToTensor(),\n",
    "    ]),\n",
    "    'validacao': transforms.Compose([\n",
    "        transforms.Resize(size=[image_size, image_size]),\n",
    "        transforms.ToTensor(),\n",
    "    ]),\n",
    "    'teste': transforms.Compose([\n",
    "        transforms.Resize(size=[image_size, image_size]),\n",
    "        transforms.ToTensor(),\n",
    "    ])\n",
    "}"
   ]
  },
  {
   "cell_type": "markdown",
   "metadata": {},
   "source": [
    "# Carregamos as nossas Imagens (Dataset de Treino - Validação - Teste)"
   ]
  },
  {
   "cell_type": "markdown",
   "metadata": {},
   "source": [
    "A seguir carregamos as nossas Imagens. Temos as pastas de treino - validacao - teste."
   ]
  },
  {
   "cell_type": "code",
   "execution_count": 26,
   "metadata": {},
   "outputs": [],
   "source": [
    "# Carregar as imagens\n",
    "# Determinar as pastas de treino, validação e teste\n",
    "\n",
    "dataset = r'./data/'\n",
    "\n",
    "pasta_treino = os.path.join(dataset, 'treino')\n",
    "pasta_validacao = os.path.join(dataset, 'validacao')\n",
    "pasta_teste = os.path.join(dataset, 'teste')"
   ]
  },
  {
   "cell_type": "code",
   "execution_count": 27,
   "metadata": {},
   "outputs": [],
   "source": [
    "bs = 16 # Batch_size\n",
    "\n",
    "# Determinando o número de classes\n",
    "numero_de_classes = len(os.listdir(pasta_validacao))  # Temos três classes"
   ]
  },
  {
   "cell_type": "code",
   "execution_count": 28,
   "metadata": {},
   "outputs": [
    {
     "data": {
      "text/plain": [
       "3"
      ]
     },
     "execution_count": 28,
     "metadata": {},
     "output_type": "execute_result"
    }
   ],
   "source": [
    "numero_de_classes"
   ]
  },
  {
   "cell_type": "code",
   "execution_count": 29,
   "metadata": {},
   "outputs": [],
   "source": [
    "# Carregar as imagens usando o datasets do torchvision\n",
    "\n",
    "data = {\n",
    "    'treino': datasets.ImageFolder(root=pasta_treino, transform=transformacoes_de_imagens['treino']),\n",
    "    'validacao': datasets.ImageFolder(root=pasta_validacao, transform=transformacoes_de_imagens['validacao'])\n",
    "}\n",
    "\n",
    "# Total de dados de treino = 94 (todas as imagens, ou seja as classes)"
   ]
  },
  {
   "cell_type": "code",
   "execution_count": 30,
   "metadata": {},
   "outputs": [
    {
     "data": {
      "text/plain": [
       "{'treino': Dataset ImageFolder\n",
       "     Number of datapoints: 94\n",
       "     Root location: ./data/treino\n",
       "     StandardTransform\n",
       " Transform: Compose(\n",
       "                Resize(size=[100, 100], interpolation=bilinear, max_size=None, antialias=None)\n",
       "                ToTensor()\n",
       "            ),\n",
       " 'validacao': Dataset ImageFolder\n",
       "     Number of datapoints: 18\n",
       "     Root location: ./data/validacao\n",
       "     StandardTransform\n",
       " Transform: Compose(\n",
       "                Resize(size=[100, 100], interpolation=bilinear, max_size=None, antialias=None)\n",
       "                ToTensor()\n",
       "            )}"
      ]
     },
     "execution_count": 30,
     "metadata": {},
     "output_type": "execute_result"
    }
   ],
   "source": [
    "data"
   ]
  },
  {
   "cell_type": "markdown",
   "metadata": {},
   "source": [
    "# Rótulo de nossas Imagens"
   ]
  },
  {
   "cell_type": "code",
   "execution_count": 31,
   "metadata": {},
   "outputs": [
    {
     "name": "stdout",
     "output_type": "stream",
     "text": [
      "{0: 'chocolate', 1: 'cocacola', 2: 'guarana'}\n"
     ]
    }
   ],
   "source": [
    "# Mapear os índices com os nomes das classes (entregue e devolvido)\n",
    "indice_para_classe = {v: k for k, v in data['treino'].class_to_idx.items()}\n",
    "print(indice_para_classe)\n"
   ]
  },
  {
   "cell_type": "code",
   "execution_count": 32,
   "metadata": {},
   "outputs": [
    {
     "data": {
      "text/plain": [
       "(94, 18)"
      ]
     },
     "execution_count": 32,
     "metadata": {},
     "output_type": "execute_result"
    }
   ],
   "source": [
    "# Quantidade de imagens para serem utilizados para calcular erro médio e accuracy\n",
    "num_imagens_treino = len(data['treino'])\n",
    "num_imagens_validacao = len(data['validacao'])\n",
    "\n",
    "num_imagens_treino, num_imagens_validacao\n"
   ]
  },
  {
   "cell_type": "code",
   "execution_count": 33,
   "metadata": {},
   "outputs": [],
   "source": [
    "# Cria os DataLoaders para treino e validação\n",
    "data_loader_treino = DataLoader(data['treino'], batch_size=bs, shuffle=True)\n",
    "data_loader_validacao = DataLoader(data['validacao'], batch_size=bs, shuffle=True)"
   ]
  },
  {
   "cell_type": "code",
   "execution_count": 34,
   "metadata": {},
   "outputs": [
    {
     "data": {
      "text/plain": [
       "<torch.utils.data.dataloader.DataLoader at 0x7fd45550f820>"
      ]
     },
     "execution_count": 34,
     "metadata": {},
     "output_type": "execute_result"
    }
   ],
   "source": [
    "data_loader_treino"
   ]
  },
  {
   "cell_type": "markdown",
   "metadata": {},
   "source": [
    "# Visualizamos nossas Imagens"
   ]
  },
  {
   "cell_type": "code",
   "execution_count": 35,
   "metadata": {},
   "outputs": [
    {
     "data": {
      "image/jpeg": "[encoded data removed]",
      "text/plain": [
       "<IPython.core.display.Image object>"
      ]
     },
     "metadata": {},
     "output_type": "display_data"
    },
    {
     "data": {
      "image/jpeg": "[encoded data removed]",
      "text/plain": [
       "<IPython.core.display.Image object>"
      ]
     },
     "metadata": {},
     "output_type": "display_data"
    },
    {
     "data": {
      "image/jpeg": "[encoded data removed]",
      "text/plain": [
       "<IPython.core.display.Image object>"
      ]
     },
     "metadata": {},
     "output_type": "display_data"
    }
   ],
   "source": [
    "from IPython.display import Image \n",
    "\n",
    "# Mostrar algumas imagens\n",
    "for classe in indice_para_classe.values():\n",
    "    pasta_classe = os.path.join(pasta_treino, classe)\n",
    "    arquivo_imagem = os.listdir(pasta_classe)[1]\n",
    "    img = Image(filename=os.path.join(pasta_classe, arquivo_imagem))\n",
    "    display(img)"
   ]
  },
  {
   "cell_type": "markdown",
   "metadata": {},
   "source": [
    "# Carregamos nosso modelo pré-treinado"
   ]
  },
  {
   "cell_type": "code",
   "execution_count": 36,
   "metadata": {},
   "outputs": [
    {
     "data": {
      "text/plain": [
       "AlexNet(\n",
       "  (features): Sequential(\n",
       "    (0): Conv2d(3, 64, kernel_size=(11, 11), stride=(4, 4), padding=(2, 2))\n",
       "    (1): ReLU(inplace=True)\n",
       "    (2): MaxPool2d(kernel_size=3, stride=2, padding=0, dilation=1, ceil_mode=False)\n",
       "    (3): Conv2d(64, 192, kernel_size=(5, 5), stride=(1, 1), padding=(2, 2))\n",
       "    (4): ReLU(inplace=True)\n",
       "    (5): MaxPool2d(kernel_size=3, stride=2, padding=0, dilation=1, ceil_mode=False)\n",
       "    (6): Conv2d(192, 384, kernel_size=(3, 3), stride=(1, 1), padding=(1, 1))\n",
       "    (7): ReLU(inplace=True)\n",
       "    (8): Conv2d(384, 256, kernel_size=(3, 3), stride=(1, 1), padding=(1, 1))\n",
       "    (9): ReLU(inplace=True)\n",
       "    (10): Conv2d(256, 256, kernel_size=(3, 3), stride=(1, 1), padding=(1, 1))\n",
       "    (11): ReLU(inplace=True)\n",
       "    (12): MaxPool2d(kernel_size=3, stride=2, padding=0, dilation=1, ceil_mode=False)\n",
       "  )\n",
       "  (avgpool): AdaptiveAvgPool2d(output_size=(6, 6))\n",
       "  (classifier): Sequential(\n",
       "    (0): Dropout(p=0.5, inplace=False)\n",
       "    (1): Linear(in_features=9216, out_features=4096, bias=True)\n",
       "    (2): ReLU(inplace=True)\n",
       "    (3): Dropout(p=0.5, inplace=False)\n",
       "    (4): Linear(in_features=4096, out_features=4096, bias=True)\n",
       "    (5): ReLU(inplace=True)\n",
       "    (6): Linear(in_features=4096, out_features=1000, bias=True)\n",
       "  )\n",
       ")"
      ]
     },
     "execution_count": 36,
     "metadata": {},
     "output_type": "execute_result"
    }
   ],
   "source": [
    "alexnet = models.alexnet(pretrained=True)\n",
    "alexnet\n"
   ]
  },
  {
   "cell_type": "code",
   "execution_count": 37,
   "metadata": {},
   "outputs": [
    {
     "name": "stdout",
     "output_type": "stream",
     "text": [
      "0 torch.Size([64, 3, 11, 11]) True\n",
      "1 torch.Size([64]) True\n",
      "2 torch.Size([192, 64, 5, 5]) True\n",
      "3 torch.Size([192]) True\n",
      "4 torch.Size([384, 192, 3, 3]) True\n",
      "5 torch.Size([384]) True\n",
      "6 torch.Size([256, 384, 3, 3]) True\n",
      "7 torch.Size([256]) True\n",
      "8 torch.Size([256, 256, 3, 3]) True\n",
      "9 torch.Size([256]) True\n",
      "10 torch.Size([4096, 9216]) True\n",
      "11 torch.Size([4096]) True\n",
      "12 torch.Size([4096, 4096]) True\n",
      "13 torch.Size([4096]) True\n",
      "14 torch.Size([1000, 4096]) True\n",
      "15 torch.Size([1000]) True\n"
     ]
    }
   ],
   "source": [
    "for i, w in enumerate(alexnet.parameters()):\n",
    "    print(i, w.shape, w.requires_grad)"
   ]
  },
  {
   "cell_type": "code",
   "execution_count": 38,
   "metadata": {},
   "outputs": [],
   "source": [
    "# Congelamos os parametros da Rede Neural pré-treinada\n",
    "for param in alexnet.parameters():\n",
    "    param.requires_grad = False"
   ]
  },
  {
   "cell_type": "code",
   "execution_count": 39,
   "metadata": {},
   "outputs": [
    {
     "data": {
      "text/plain": [
       "AlexNet(\n",
       "  (features): Sequential(\n",
       "    (0): Conv2d(3, 64, kernel_size=(11, 11), stride=(4, 4), padding=(2, 2))\n",
       "    (1): ReLU(inplace=True)\n",
       "    (2): MaxPool2d(kernel_size=3, stride=2, padding=0, dilation=1, ceil_mode=False)\n",
       "    (3): Conv2d(64, 192, kernel_size=(5, 5), stride=(1, 1), padding=(2, 2))\n",
       "    (4): ReLU(inplace=True)\n",
       "    (5): MaxPool2d(kernel_size=3, stride=2, padding=0, dilation=1, ceil_mode=False)\n",
       "    (6): Conv2d(192, 384, kernel_size=(3, 3), stride=(1, 1), padding=(1, 1))\n",
       "    (7): ReLU(inplace=True)\n",
       "    (8): Conv2d(384, 256, kernel_size=(3, 3), stride=(1, 1), padding=(1, 1))\n",
       "    (9): ReLU(inplace=True)\n",
       "    (10): Conv2d(256, 256, kernel_size=(3, 3), stride=(1, 1), padding=(1, 1))\n",
       "    (11): ReLU(inplace=True)\n",
       "    (12): MaxPool2d(kernel_size=3, stride=2, padding=0, dilation=1, ceil_mode=False)\n",
       "  )\n",
       "  (avgpool): AdaptiveAvgPool2d(output_size=(6, 6))\n",
       "  (classifier): Sequential(\n",
       "    (0): Dropout(p=0.5, inplace=False)\n",
       "    (1): Linear(in_features=9216, out_features=4096, bias=True)\n",
       "    (2): ReLU(inplace=True)\n",
       "    (3): Dropout(p=0.5, inplace=False)\n",
       "    (4): Linear(in_features=4096, out_features=4096, bias=True)\n",
       "    (5): ReLU(inplace=True)\n",
       "    (6): Linear(in_features=4096, out_features=3, bias=True)\n",
       "    (7): LogSoftmax(dim=1)\n",
       "  )\n",
       ")"
      ]
     },
     "execution_count": 39,
     "metadata": {},
     "output_type": "execute_result"
    }
   ],
   "source": [
    "# Mudar a última camada para alterar o número de classes\n",
    "alexnet.classifier[6] = nn.Linear(4096, numero_de_classes)\n",
    "alexnet.classifier.add_module(\"7\", nn.LogSoftmax(dim = 1)) \n",
    "alexnet"
   ]
  },
  {
   "cell_type": "markdown",
   "metadata": {},
   "source": [
    "# Nosso Otimizador"
   ]
  },
  {
   "cell_type": "code",
   "execution_count": 40,
   "metadata": {},
   "outputs": [
    {
     "data": {
      "text/plain": [
       "Adam (\n",
       "Parameter Group 0\n",
       "    amsgrad: False\n",
       "    betas: (0.9, 0.999)\n",
       "    capturable: False\n",
       "    eps: 1e-08\n",
       "    foreach: None\n",
       "    lr: 0.001\n",
       "    maximize: False\n",
       "    weight_decay: 0\n",
       ")"
      ]
     },
     "execution_count": 40,
     "metadata": {},
     "output_type": "execute_result"
    }
   ],
   "source": [
    "# Definição de algoritmo de otimização de gradiente descendente e função de erro\n",
    "funcao_erro = nn.NLLLoss() # Negative Log Likelihood Loss\n",
    "otimizador = optim.Adam(alexnet.parameters(), lr=0.001) # otimizador de passos para o SGD\n",
    "otimizador"
   ]
  },
  {
   "cell_type": "markdown",
   "metadata": {},
   "source": [
    "# Definimos a nossa função de Treinamento e Validação"
   ]
  },
  {
   "cell_type": "code",
   "execution_count": 41,
   "metadata": {},
   "outputs": [],
   "source": [
    "from torch import device\n",
    "\n",
    "\n",
    "def treinar_e_validar(modelo, metrica_erro, otimizador_sgd, epocas=25):\n",
    "    '''\n",
    "    Função para treinamento e validação\n",
    "    Parâmetros\n",
    "        :param modelo: modelo para treinar e validar\n",
    "        :param metrica_erro: critério de erro para minização\n",
    "        :param otimizador_sgd: otimizador para calcular os gradientes\n",
    "        :param epocas: número de épocas (default=25)\n",
    "  \n",
    "    Retorna\n",
    "        melhor_modelo: modelo treinado com a melhor acurácia na validação\n",
    "        historico: (dicionário): histórico com erro no treinamento, erro na validação e acurácia\n",
    "    '''\n",
    "    \n",
    "    # inicializando historico, a melhor acuracia de validação e o melhor modelo de acordo com a validação\n",
    "    historico = []\n",
    "    melhor_acuracia = 0.0\n",
    "    melhor_modelo = None\n",
    "\n",
    "    # Cada época perpassa todas as imagens do treino e calcula erros de treino e validação\n",
    "    # para aprendizado da rede neural\n",
    "    for epoca in range(epocas):\n",
    "        inicio_epoca = time.time()\n",
    "        print(\"\\n\\nÉpoca: {}/{}\".format(epoca+1, epocas))\n",
    "        \n",
    "        # Mudar o modelo para modo treino: vai atualizar os parametros da rede neural\n",
    "        modelo.train()\n",
    "        \n",
    "        # Erro e acurácia de treino nessa época\n",
    "        erro_treino = 0.0\n",
    "        acuracia_treino = 0.0\n",
    "        \n",
    "        # Erro e acurácia de validação nessa época\n",
    "        erro_validacao = 0.0\n",
    "        acuracia_validacao = 0.0\n",
    "        \n",
    "        # Itera a cada lote de imagem. As entradas são os tensores do lote (batch)\n",
    "        # e o label são as classificações de cada imagem do lote: \n",
    "        # chocolate, coca cola ou guarana (0, 1 e 2)\n",
    "        for i, (entradas, labels) in enumerate(data_loader_treino):\n",
    "\n",
    "            # joga pra GPU ou CPU, dependendo do seu hardware\n",
    "            entradas = entradas.to(device)\n",
    "            labels = labels.to(device)\n",
    "            \n",
    "            # Limpar os gradientes: zerar os gradientes\n",
    "            otimizador_sgd.zero_grad()\n",
    "            \n",
    "            # Forward pass - calcular saídas a partir das entradas utilizando o modelo\n",
    "            saidas = modelo(entradas)\n",
    "            \n",
    "            # Calcular erro das saidas que foram preditas no forward pass\n",
    "            # comparando com as classificacoes reais (predito vs real)\n",
    "            erro = metrica_erro(saidas, labels)\n",
    "            \n",
    "            # Realizar backpropagation do erro para treinar os coeficientes da rede\n",
    "            erro.backward()\n",
    "            \n",
    "            # Atualizar os parâmetros do otimizador (no nosso caso, Adam Optimizer)\n",
    "            otimizador_sgd.step()\n",
    "            \n",
    "            # Calcular o erro total para esse lote (batch) e soma o erro no treino\n",
    "            erro_treino += erro.item() * entradas.size(0)\n",
    "            \n",
    "            # Cálculo da acurácia\n",
    "            # Pra calcular a acurácia temos que buscar as classes preditas para cada imagem no lote\n",
    "            \n",
    "            # Cada tensor é uma imagem do lote com três posições: probabilidades de cada classe\n",
    "            # torch.max vai retornar o valor da maior probabilidade, bem como a posição no tensor (tupla de saída)\n",
    "            # A posição, portanto, vai indicar a classe com maior probabilidade (0,1 ou 2)\n",
    "            # 1o busca o valor máximo de cada tensor de cada imagem, que vai dar \n",
    "            valores_maximos, indices_dos_valores_maximos = torch.max(saidas.data, 1)\n",
    "            predicoes_corretas = indices_dos_valores_maximos.eq(labels.data.view_as(indices_dos_valores_maximos))\n",
    "            \n",
    "            # Converter os acertos para float e calcular a acurácia média\n",
    "            acuracia = torch.mean(predicoes_corretas.type(torch.FloatTensor))\n",
    "            \n",
    "            # Calcular a acurácia total de treino do lote todo e adicionar a em train_acc\n",
    "            acuracia_treino += acuracia.item() * entradas.size(0)\n",
    "            \n",
    "            print(\"Treino - Lote número {:03d}, Erro: {:.4f}, Acurácia: {:.4f}\".format(i, erro.item(), acuracia.item()))\n",
    "\n",
    "            \n",
    "        # Validação - não é necessário rastrear os gradientes, pois o modelo não vai ser treinado com a validação\n",
    "        with torch.no_grad():\n",
    "\n",
    "            # Mudando de treino para validação\n",
    "            modelo.eval()\n",
    "\n",
    "            # Iteração de validação\n",
    "            for j, (entradas, labels) in enumerate(data_loader_validacao):\n",
    "                entradas = entradas.to(device)\n",
    "                labels = labels.to(device)\n",
    "\n",
    "                # Forward pass de validação\n",
    "                saidas = modelo(entradas)\n",
    "\n",
    "                # Calcular erro de validação\n",
    "                erro = metrica_erro(saidas, labels)\n",
    "\n",
    "                # Calcular erro de validação e adicionar a valid_loss\n",
    "                erro_validacao += erro.item() * entradas.size(0)\n",
    "\n",
    "                # Calcular a acurácia de validação\n",
    "                valores_maximos, indices_dos_valores_maximos = torch.max(saidas.data, 1)\n",
    "                predicoes_corretas = indices_dos_valores_maximos.eq(labels.data.view_as(indices_dos_valores_maximos))\n",
    "\n",
    "                # Converter os acertos para float e calcular a acurácia média\n",
    "                acuracia = torch.mean(predicoes_corretas.type(torch.FloatTensor))\n",
    "\n",
    "                # Calcular a acurácia total de validação do lote todo e adicionar a em train_acc\n",
    "                acuracia_validacao += acuracia.item() * entradas.size(0)\n",
    "\n",
    "                print(\"Validação - Lote número: {:03d}, Erro: {:.4f}, Acurácia: {:.4f}\".format(j, erro.item(), acuracia.item()))\n",
    "            \n",
    "        # Calcular a média de erro e acurácia no treino\n",
    "        erro_medio_treino = erro_treino/num_imagens_treino\n",
    "        acuracia_media_treino = acuracia_treino/num_imagens_treino\n",
    "\n",
    "        # Calcular a média de erro e acurácia na validação\n",
    "        erro_medio_validacao = erro_validacao/num_imagens_validacao\n",
    "        acuracia_media_validacao = acuracia_validacao/num_imagens_validacao\n",
    "\n",
    "        # Incluir no histórico os erros e acurácias méidas\n",
    "        historico.append([erro_medio_treino, erro_medio_validacao, acuracia_media_treino, acuracia_media_validacao])\n",
    "                \n",
    "        fim_epoca = time.time()\n",
    "    \n",
    "        print(\"Época : {:03d}, Treino: Erro: {:.4f}, Acurácia: {:.4f}%, \\n\\t\\tValidação : Erro : {:.4f}, Acurácia: {:.4f}%, Tempo: {:.4f}s\".format(epoca+1, erro_medio_treino, acuracia_media_treino*100, erro_medio_validacao, acuracia_media_validacao*100, fim_epoca-inicio_epoca))\n",
    "        \n",
    "        # Testa se a acurácia na validação desse modelo nessa época é a melhor\n",
    "        # Se for a melhor, salva no melhor modelo e na melhor acurácia\n",
    "        if acuracia_media_validacao > melhor_acuracia:\n",
    "            melhor_acuracia = acuracia_media_validacao\n",
    "            torch.save(modelo, './modelos/melhor_modelo.pt')\n",
    "            melhor_modelo = modelo\n",
    "            \n",
    "    return melhor_modelo, historico"
   ]
  },
  {
   "cell_type": "code",
   "execution_count": 42,
   "metadata": {},
   "outputs": [
    {
     "name": "stdout",
     "output_type": "stream",
     "text": [
      "cpu\n",
      "\n",
      "\n",
      "\n",
      "Época: 1/40\n",
      "Treino - Lote número 000, Erro: 0.9087, Acurácia: 0.5625\n",
      "Treino - Lote número 001, Erro: 0.5307, Acurácia: 0.8750\n",
      "Treino - Lote número 002, Erro: 0.2248, Acurácia: 1.0000\n",
      "Treino - Lote número 003, Erro: 0.0778, Acurácia: 1.0000\n",
      "Treino - Lote número 004, Erro: 0.0808, Acurácia: 1.0000\n",
      "Treino - Lote número 005, Erro: 0.0424, Acurácia: 1.0000\n",
      "Validação - Lote número: 000, Erro: 0.0713, Acurácia: 1.0000\n",
      "Validação - Lote número: 001, Erro: 0.0002, Acurácia: 1.0000\n",
      "Época : 001, Treino: Erro: 0.3165, Acurácia: 90.4255%, \n",
      "\t\tValidação : Erro : 0.0634, Acurácia: 100.0000%, Tempo: 0.6931s\n",
      "\n",
      "\n",
      "Época: 2/40\n",
      "Treino - Lote número 000, Erro: 0.0967, Acurácia: 1.0000\n",
      "Treino - Lote número 001, Erro: 0.0223, Acurácia: 1.0000\n",
      "Treino - Lote número 002, Erro: 0.0063, Acurácia: 1.0000\n",
      "Treino - Lote número 003, Erro: 0.1597, Acurácia: 0.9375\n",
      "Treino - Lote número 004, Erro: 0.0200, Acurácia: 1.0000\n",
      "Treino - Lote número 005, Erro: 0.0055, Acurácia: 1.0000\n",
      "Validação - Lote número: 000, Erro: 0.0162, Acurácia: 1.0000\n",
      "Validação - Lote número: 001, Erro: 0.0001, Acurácia: 1.0000\n",
      "Época : 002, Treino: Erro: 0.0527, Acurácia: 98.9362%, \n",
      "\t\tValidação : Erro : 0.0144, Acurácia: 100.0000%, Tempo: 0.7474s\n",
      "\n",
      "\n",
      "Época: 3/40\n",
      "Treino - Lote número 000, Erro: 0.0145, Acurácia: 1.0000\n",
      "Treino - Lote número 001, Erro: 0.0541, Acurácia: 0.9375\n",
      "Treino - Lote número 002, Erro: 0.0046, Acurácia: 1.0000\n",
      "Treino - Lote número 003, Erro: 0.0017, Acurácia: 1.0000\n",
      "Treino - Lote número 004, Erro: 0.0073, Acurácia: 1.0000\n",
      "Treino - Lote número 005, Erro: 0.0073, Acurácia: 1.0000\n",
      "Validação - Lote número: 000, Erro: 0.0105, Acurácia: 1.0000\n",
      "Validação - Lote número: 001, Erro: 0.0000, Acurácia: 1.0000\n",
      "Época : 003, Treino: Erro: 0.0151, Acurácia: 98.9362%, \n",
      "\t\tValidação : Erro : 0.0093, Acurácia: 100.0000%, Tempo: 0.7101s\n",
      "\n",
      "\n",
      "Época: 4/40\n",
      "Treino - Lote número 000, Erro: 0.0030, Acurácia: 1.0000\n",
      "Treino - Lote número 001, Erro: 0.0071, Acurácia: 1.0000\n",
      "Treino - Lote número 002, Erro: 0.0005, Acurácia: 1.0000\n",
      "Treino - Lote número 003, Erro: 0.0028, Acurácia: 1.0000\n",
      "Treino - Lote número 004, Erro: 0.0010, Acurácia: 1.0000\n",
      "Treino - Lote número 005, Erro: 0.0040, Acurácia: 1.0000\n",
      "Validação - Lote número: 000, Erro: 0.0052, Acurácia: 1.0000\n",
      "Validação - Lote número: 001, Erro: 0.0250, Acurácia: 1.0000\n",
      "Época : 004, Treino: Erro: 0.0030, Acurácia: 100.0000%, \n",
      "\t\tValidação : Erro : 0.0074, Acurácia: 100.0000%, Tempo: 0.7252s\n",
      "\n",
      "\n",
      "Época: 5/40\n",
      "Treino - Lote número 000, Erro: 0.0025, Acurácia: 1.0000\n",
      "Treino - Lote número 001, Erro: 0.0003, Acurácia: 1.0000\n",
      "Treino - Lote número 002, Erro: 0.0005, Acurácia: 1.0000\n",
      "Treino - Lote número 003, Erro: 0.0045, Acurácia: 1.0000\n",
      "Treino - Lote número 004, Erro: 0.0020, Acurácia: 1.0000\n",
      "Treino - Lote número 005, Erro: 0.0030, Acurácia: 1.0000\n",
      "Validação - Lote número: 000, Erro: 0.0056, Acurácia: 1.0000\n",
      "Validação - Lote número: 001, Erro: 0.0001, Acurácia: 1.0000\n",
      "Época : 005, Treino: Erro: 0.0021, Acurácia: 100.0000%, \n",
      "\t\tValidação : Erro : 0.0050, Acurácia: 100.0000%, Tempo: 0.7084s\n",
      "\n",
      "\n",
      "Época: 6/40\n",
      "Treino - Lote número 000, Erro: 0.0019, Acurácia: 1.0000\n",
      "Treino - Lote número 001, Erro: 0.0031, Acurácia: 1.0000\n",
      "Treino - Lote número 002, Erro: 0.0028, Acurácia: 1.0000\n",
      "Treino - Lote número 003, Erro: 0.0131, Acurácia: 1.0000\n",
      "Treino - Lote número 004, Erro: 0.0029, Acurácia: 1.0000\n",
      "Treino - Lote número 005, Erro: 0.0001, Acurácia: 1.0000\n",
      "Validação - Lote número: 000, Erro: 0.0028, Acurácia: 1.0000\n",
      "Validação - Lote número: 001, Erro: 0.0015, Acurácia: 1.0000\n",
      "Época : 006, Treino: Erro: 0.0041, Acurácia: 100.0000%, \n",
      "\t\tValidação : Erro : 0.0026, Acurácia: 100.0000%, Tempo: 0.7002s\n",
      "\n",
      "\n",
      "Época: 7/40\n",
      "Treino - Lote número 000, Erro: 0.0019, Acurácia: 1.0000\n",
      "Treino - Lote número 001, Erro: 0.0003, Acurácia: 1.0000\n",
      "Treino - Lote número 002, Erro: 0.0002, Acurácia: 1.0000\n",
      "Treino - Lote número 003, Erro: 0.0007, Acurácia: 1.0000\n",
      "Treino - Lote número 004, Erro: 0.0003, Acurácia: 1.0000\n",
      "Treino - Lote número 005, Erro: 0.0003, Acurácia: 1.0000\n",
      "Validação - Lote número: 000, Erro: 0.0020, Acurácia: 1.0000\n",
      "Validação - Lote número: 001, Erro: 0.0001, Acurácia: 1.0000\n",
      "Época : 007, Treino: Erro: 0.0006, Acurácia: 100.0000%, \n",
      "\t\tValidação : Erro : 0.0018, Acurácia: 100.0000%, Tempo: 0.7014s\n",
      "\n",
      "\n",
      "Época: 8/40\n",
      "Treino - Lote número 000, Erro: 0.0008, Acurácia: 1.0000\n",
      "Treino - Lote número 001, Erro: 0.0002, Acurácia: 1.0000\n",
      "Treino - Lote número 002, Erro: 0.0003, Acurácia: 1.0000\n",
      "Treino - Lote número 003, Erro: 0.0004, Acurácia: 1.0000\n",
      "Treino - Lote número 004, Erro: 0.0005, Acurácia: 1.0000\n",
      "Treino - Lote número 005, Erro: 0.0005, Acurácia: 1.0000\n",
      "Validação - Lote número: 000, Erro: 0.0018, Acurácia: 1.0000\n",
      "Validação - Lote número: 001, Erro: 0.0000, Acurácia: 1.0000\n",
      "Época : 008, Treino: Erro: 0.0005, Acurácia: 100.0000%, \n",
      "\t\tValidação : Erro : 0.0016, Acurácia: 100.0000%, Tempo: 0.7009s\n",
      "\n",
      "\n",
      "Época: 9/40\n",
      "Treino - Lote número 000, Erro: 0.0009, Acurácia: 1.0000\n",
      "Treino - Lote número 001, Erro: 0.0004, Acurácia: 1.0000\n",
      "Treino - Lote número 002, Erro: 0.0003, Acurácia: 1.0000\n",
      "Treino - Lote número 003, Erro: 0.0005, Acurácia: 1.0000\n",
      "Treino - Lote número 004, Erro: 0.0058, Acurácia: 1.0000\n",
      "Treino - Lote número 005, Erro: 0.0000, Acurácia: 1.0000\n",
      "Validação - Lote número: 000, Erro: 0.0017, Acurácia: 1.0000\n",
      "Validação - Lote número: 001, Erro: 0.0002, Acurácia: 1.0000\n",
      "Época : 009, Treino: Erro: 0.0013, Acurácia: 100.0000%, \n",
      "\t\tValidação : Erro : 0.0015, Acurácia: 100.0000%, Tempo: 0.7021s\n",
      "\n",
      "\n",
      "Época: 10/40\n",
      "Treino - Lote número 000, Erro: 0.0003, Acurácia: 1.0000\n",
      "Treino - Lote número 001, Erro: 0.0004, Acurácia: 1.0000\n",
      "Treino - Lote número 002, Erro: 0.0009, Acurácia: 1.0000\n",
      "Treino - Lote número 003, Erro: 0.0048, Acurácia: 1.0000\n",
      "Treino - Lote número 004, Erro: 0.0002, Acurácia: 1.0000\n",
      "Treino - Lote número 005, Erro: 0.0004, Acurácia: 1.0000\n",
      "Validação - Lote número: 000, Erro: 0.0017, Acurácia: 1.0000\n",
      "Validação - Lote número: 001, Erro: 0.0006, Acurácia: 1.0000\n",
      "Época : 010, Treino: Erro: 0.0012, Acurácia: 100.0000%, \n",
      "\t\tValidação : Erro : 0.0015, Acurácia: 100.0000%, Tempo: 0.7184s\n",
      "\n",
      "\n",
      "Época: 11/40\n",
      "Treino - Lote número 000, Erro: 0.0008, Acurácia: 1.0000\n",
      "Treino - Lote número 001, Erro: 0.0002, Acurácia: 1.0000\n",
      "Treino - Lote número 002, Erro: 0.0005, Acurácia: 1.0000\n",
      "Treino - Lote número 003, Erro: 0.0031, Acurácia: 1.0000\n",
      "Treino - Lote número 004, Erro: 0.0001, Acurácia: 1.0000\n",
      "Treino - Lote número 005, Erro: 0.0005, Acurácia: 1.0000\n",
      "Validação - Lote número: 000, Erro: 0.0014, Acurácia: 1.0000\n",
      "Validação - Lote número: 001, Erro: 0.0041, Acurácia: 1.0000\n",
      "Época : 011, Treino: Erro: 0.0009, Acurácia: 100.0000%, \n",
      "\t\tValidação : Erro : 0.0017, Acurácia: 100.0000%, Tempo: 0.7063s\n",
      "\n",
      "\n",
      "Época: 12/40\n",
      "Treino - Lote número 000, Erro: 0.0015, Acurácia: 1.0000\n",
      "Treino - Lote número 001, Erro: 0.0001, Acurácia: 1.0000\n",
      "Treino - Lote número 002, Erro: 0.0001, Acurácia: 1.0000\n",
      "Treino - Lote número 003, Erro: 0.0001, Acurácia: 1.0000\n",
      "Treino - Lote número 004, Erro: 0.0003, Acurácia: 1.0000\n",
      "Treino - Lote número 005, Erro: 0.0007, Acurácia: 1.0000\n",
      "Validação - Lote número: 000, Erro: 0.0020, Acurácia: 1.0000\n",
      "Validação - Lote número: 001, Erro: 0.0000, Acurácia: 1.0000\n",
      "Época : 012, Treino: Erro: 0.0005, Acurácia: 100.0000%, \n",
      "\t\tValidação : Erro : 0.0017, Acurácia: 100.0000%, Tempo: 0.7359s\n",
      "\n",
      "\n",
      "Época: 13/40\n",
      "Treino - Lote número 000, Erro: 0.0021, Acurácia: 1.0000\n",
      "Treino - Lote número 001, Erro: 0.0010, Acurácia: 1.0000\n",
      "Treino - Lote número 002, Erro: 0.0012, Acurácia: 1.0000\n",
      "Treino - Lote número 003, Erro: 0.0003, Acurácia: 1.0000\n",
      "Treino - Lote número 004, Erro: 0.0002, Acurácia: 1.0000\n",
      "Treino - Lote número 005, Erro: 0.0002, Acurácia: 1.0000\n",
      "Validação - Lote número: 000, Erro: 0.0014, Acurácia: 1.0000\n",
      "Validação - Lote número: 001, Erro: 0.0045, Acurácia: 1.0000\n",
      "Época : 013, Treino: Erro: 0.0008, Acurácia: 100.0000%, \n",
      "\t\tValidação : Erro : 0.0018, Acurácia: 100.0000%, Tempo: 0.7148s\n",
      "\n",
      "\n",
      "Época: 14/40\n",
      "Treino - Lote número 000, Erro: 0.0002, Acurácia: 1.0000\n",
      "Treino - Lote número 001, Erro: 0.0010, Acurácia: 1.0000\n",
      "Treino - Lote número 002, Erro: 0.0004, Acurácia: 1.0000\n",
      "Treino - Lote número 003, Erro: 0.0007, Acurácia: 1.0000\n",
      "Treino - Lote número 004, Erro: 0.0003, Acurácia: 1.0000\n",
      "Treino - Lote número 005, Erro: 0.0002, Acurácia: 1.0000\n",
      "Validação - Lote número: 000, Erro: 0.0020, Acurácia: 1.0000\n",
      "Validação - Lote número: 001, Erro: 0.0000, Acurácia: 1.0000\n",
      "Época : 014, Treino: Erro: 0.0005, Acurácia: 100.0000%, \n",
      "\t\tValidação : Erro : 0.0018, Acurácia: 100.0000%, Tempo: 0.6962s\n",
      "\n",
      "\n",
      "Época: 15/40\n",
      "Treino - Lote número 000, Erro: 0.0002, Acurácia: 1.0000\n",
      "Treino - Lote número 001, Erro: 0.0002, Acurácia: 1.0000\n",
      "Treino - Lote número 002, Erro: 0.0005, Acurácia: 1.0000\n",
      "Treino - Lote número 003, Erro: 0.0008, Acurácia: 1.0000\n",
      "Treino - Lote número 004, Erro: 0.0005, Acurácia: 1.0000\n",
      "Treino - Lote número 005, Erro: 0.0001, Acurácia: 1.0000\n",
      "Validação - Lote número: 000, Erro: 0.0020, Acurácia: 1.0000\n",
      "Validação - Lote número: 001, Erro: 0.0000, Acurácia: 1.0000\n",
      "Época : 015, Treino: Erro: 0.0004, Acurácia: 100.0000%, \n",
      "\t\tValidação : Erro : 0.0017, Acurácia: 100.0000%, Tempo: 0.6937s\n",
      "\n",
      "\n",
      "Época: 16/40\n",
      "Treino - Lote número 000, Erro: 0.0003, Acurácia: 1.0000\n",
      "Treino - Lote número 001, Erro: 0.0005, Acurácia: 1.0000\n",
      "Treino - Lote número 002, Erro: 0.0006, Acurácia: 1.0000\n",
      "Treino - Lote número 003, Erro: 0.0003, Acurácia: 1.0000\n",
      "Treino - Lote número 004, Erro: 0.0002, Acurácia: 1.0000\n",
      "Treino - Lote número 005, Erro: 0.0004, Acurácia: 1.0000\n",
      "Validação - Lote número: 000, Erro: 0.0019, Acurácia: 1.0000\n",
      "Validação - Lote número: 001, Erro: 0.0001, Acurácia: 1.0000\n",
      "Época : 016, Treino: Erro: 0.0004, Acurácia: 100.0000%, \n",
      "\t\tValidação : Erro : 0.0017, Acurácia: 100.0000%, Tempo: 0.7050s\n",
      "\n",
      "\n",
      "Época: 17/40\n",
      "Treino - Lote número 000, Erro: 0.0004, Acurácia: 1.0000\n",
      "Treino - Lote número 001, Erro: 0.0004, Acurácia: 1.0000\n",
      "Treino - Lote número 002, Erro: 0.0006, Acurácia: 1.0000\n",
      "Treino - Lote número 003, Erro: 0.0016, Acurácia: 1.0000\n",
      "Treino - Lote número 004, Erro: 0.0002, Acurácia: 1.0000\n",
      "Treino - Lote número 005, Erro: 0.0002, Acurácia: 1.0000\n",
      "Validação - Lote número: 000, Erro: 0.0019, Acurácia: 1.0000\n",
      "Validação - Lote número: 001, Erro: 0.0000, Acurácia: 1.0000\n",
      "Época : 017, Treino: Erro: 0.0006, Acurácia: 100.0000%, \n",
      "\t\tValidação : Erro : 0.0017, Acurácia: 100.0000%, Tempo: 0.6949s\n",
      "\n",
      "\n",
      "Época: 18/40\n",
      "Treino - Lote número 000, Erro: 0.0002, Acurácia: 1.0000\n",
      "Treino - Lote número 001, Erro: 0.0004, Acurácia: 1.0000\n",
      "Treino - Lote número 002, Erro: 0.0029, Acurácia: 1.0000\n",
      "Treino - Lote número 003, Erro: 0.0003, Acurácia: 1.0000\n",
      "Treino - Lote número 004, Erro: 0.0001, Acurácia: 1.0000\n",
      "Treino - Lote número 005, Erro: 0.0002, Acurácia: 1.0000\n",
      "Validação - Lote número: 000, Erro: 0.0020, Acurácia: 1.0000\n",
      "Validação - Lote número: 001, Erro: 0.0005, Acurácia: 1.0000\n",
      "Época : 018, Treino: Erro: 0.0007, Acurácia: 100.0000%, \n",
      "\t\tValidação : Erro : 0.0018, Acurácia: 100.0000%, Tempo: 0.7038s\n",
      "\n",
      "\n",
      "Época: 19/40\n",
      "Treino - Lote número 000, Erro: 0.0010, Acurácia: 1.0000\n",
      "Treino - Lote número 001, Erro: 0.0003, Acurácia: 1.0000\n",
      "Treino - Lote número 002, Erro: 0.0002, Acurácia: 1.0000\n",
      "Treino - Lote número 003, Erro: 0.0001, Acurácia: 1.0000\n",
      "Treino - Lote número 004, Erro: 0.0005, Acurácia: 1.0000\n",
      "Treino - Lote número 005, Erro: 0.0001, Acurácia: 1.0000\n",
      "Validação - Lote número: 000, Erro: 0.0021, Acurácia: 1.0000\n",
      "Validação - Lote número: 001, Erro: 0.0005, Acurácia: 1.0000\n",
      "Época : 019, Treino: Erro: 0.0004, Acurácia: 100.0000%, \n",
      "\t\tValidação : Erro : 0.0019, Acurácia: 100.0000%, Tempo: 0.7314s\n",
      "\n",
      "\n",
      "Época: 20/40\n",
      "Treino - Lote número 000, Erro: 0.0017, Acurácia: 1.0000\n",
      "Treino - Lote número 001, Erro: 0.0006, Acurácia: 1.0000\n",
      "Treino - Lote número 002, Erro: 0.0021, Acurácia: 1.0000\n",
      "Treino - Lote número 003, Erro: 0.0004, Acurácia: 1.0000\n",
      "Treino - Lote número 004, Erro: 0.0000, Acurácia: 1.0000\n",
      "Treino - Lote número 005, Erro: 0.0013, Acurácia: 1.0000\n",
      "Validação - Lote número: 000, Erro: 0.0015, Acurácia: 1.0000\n",
      "Validação - Lote número: 001, Erro: 0.0048, Acurácia: 1.0000\n",
      "Época : 020, Treino: Erro: 0.0010, Acurácia: 100.0000%, \n",
      "\t\tValidação : Erro : 0.0019, Acurácia: 100.0000%, Tempo: 0.6757s\n",
      "\n",
      "\n",
      "Época: 21/40\n",
      "Treino - Lote número 000, Erro: 0.0004, Acurácia: 1.0000\n",
      "Treino - Lote número 001, Erro: 0.0001, Acurácia: 1.0000\n",
      "Treino - Lote número 002, Erro: 0.0008, Acurácia: 1.0000\n",
      "Treino - Lote número 003, Erro: 0.0014, Acurácia: 1.0000\n",
      "Treino - Lote número 004, Erro: 0.0003, Acurácia: 1.0000\n",
      "Treino - Lote número 005, Erro: 0.0001, Acurácia: 1.0000\n",
      "Validação - Lote número: 000, Erro: 0.0022, Acurácia: 1.0000\n",
      "Validação - Lote número: 001, Erro: 0.0000, Acurácia: 1.0000\n",
      "Época : 021, Treino: Erro: 0.0005, Acurácia: 100.0000%, \n",
      "\t\tValidação : Erro : 0.0020, Acurácia: 100.0000%, Tempo: 0.7287s\n",
      "\n",
      "\n",
      "Época: 22/40\n",
      "Treino - Lote número 000, Erro: 0.0001, Acurácia: 1.0000\n",
      "Treino - Lote número 001, Erro: 0.0002, Acurácia: 1.0000\n",
      "Treino - Lote número 002, Erro: 0.0001, Acurácia: 1.0000\n",
      "Treino - Lote número 003, Erro: 0.0013, Acurácia: 1.0000\n",
      "Treino - Lote número 004, Erro: 0.0004, Acurácia: 1.0000\n",
      "Treino - Lote número 005, Erro: 0.0000, Acurácia: 1.0000\n",
      "Validação - Lote número: 000, Erro: 0.0017, Acurácia: 1.0000\n",
      "Validação - Lote número: 001, Erro: 0.0032, Acurácia: 1.0000\n",
      "Época : 022, Treino: Erro: 0.0004, Acurácia: 100.0000%, \n",
      "\t\tValidação : Erro : 0.0019, Acurácia: 100.0000%, Tempo: 0.6734s\n",
      "\n",
      "\n",
      "Época: 23/40\n",
      "Treino - Lote número 000, Erro: 0.0002, Acurácia: 1.0000\n",
      "Treino - Lote número 001, Erro: 0.0003, Acurácia: 1.0000\n",
      "Treino - Lote número 002, Erro: 0.0002, Acurácia: 1.0000\n",
      "Treino - Lote número 003, Erro: 0.0000, Acurácia: 1.0000\n",
      "Treino - Lote número 004, Erro: 0.0006, Acurácia: 1.0000\n",
      "Treino - Lote número 005, Erro: 0.0003, Acurácia: 1.0000\n",
      "Validação - Lote número: 000, Erro: 0.0020, Acurácia: 1.0000\n",
      "Validação - Lote número: 001, Erro: 0.0005, Acurácia: 1.0000\n",
      "Época : 023, Treino: Erro: 0.0003, Acurácia: 100.0000%, \n",
      "\t\tValidação : Erro : 0.0018, Acurácia: 100.0000%, Tempo: 0.7079s\n",
      "\n",
      "\n",
      "Época: 24/40\n",
      "Treino - Lote número 000, Erro: 0.0007, Acurácia: 1.0000\n",
      "Treino - Lote número 001, Erro: 0.0001, Acurácia: 1.0000\n",
      "Treino - Lote número 002, Erro: 0.0003, Acurácia: 1.0000\n",
      "Treino - Lote número 003, Erro: 0.0005, Acurácia: 1.0000\n",
      "Treino - Lote número 004, Erro: 0.0001, Acurácia: 1.0000\n",
      "Treino - Lote número 005, Erro: 0.0003, Acurácia: 1.0000\n",
      "Validação - Lote número: 000, Erro: 0.0019, Acurácia: 1.0000\n",
      "Validação - Lote número: 001, Erro: 0.0000, Acurácia: 1.0000\n",
      "Época : 024, Treino: Erro: 0.0003, Acurácia: 100.0000%, \n",
      "\t\tValidação : Erro : 0.0017, Acurácia: 100.0000%, Tempo: 0.6888s\n",
      "\n",
      "\n",
      "Época: 25/40\n",
      "Treino - Lote número 000, Erro: 0.0003, Acurácia: 1.0000\n",
      "Treino - Lote número 001, Erro: 0.0003, Acurácia: 1.0000\n",
      "Treino - Lote número 002, Erro: 0.0003, Acurácia: 1.0000\n",
      "Treino - Lote número 003, Erro: 0.0001, Acurácia: 1.0000\n",
      "Treino - Lote número 004, Erro: 0.0002, Acurácia: 1.0000\n",
      "Treino - Lote número 005, Erro: 0.0005, Acurácia: 1.0000\n",
      "Validação - Lote número: 000, Erro: 0.0017, Acurácia: 1.0000\n",
      "Validação - Lote número: 001, Erro: 0.0004, Acurácia: 1.0000\n",
      "Época : 025, Treino: Erro: 0.0003, Acurácia: 100.0000%, \n",
      "\t\tValidação : Erro : 0.0016, Acurácia: 100.0000%, Tempo: 0.7075s\n",
      "\n",
      "\n",
      "Época: 26/40\n",
      "Treino - Lote número 000, Erro: 0.0007, Acurácia: 1.0000\n",
      "Treino - Lote número 001, Erro: 0.0001, Acurácia: 1.0000\n",
      "Treino - Lote número 002, Erro: 0.0016, Acurácia: 1.0000\n",
      "Treino - Lote número 003, Erro: 0.0002, Acurácia: 1.0000\n",
      "Treino - Lote número 004, Erro: 0.0003, Acurácia: 1.0000\n",
      "Treino - Lote número 005, Erro: 0.0000, Acurácia: 1.0000\n",
      "Validação - Lote número: 000, Erro: 0.0017, Acurácia: 1.0000\n",
      "Validação - Lote número: 001, Erro: 0.0000, Acurácia: 1.0000\n",
      "Época : 026, Treino: Erro: 0.0005, Acurácia: 100.0000%, \n",
      "\t\tValidação : Erro : 0.0015, Acurácia: 100.0000%, Tempo: 0.7182s\n",
      "\n",
      "\n",
      "Época: 27/40\n",
      "Treino - Lote número 000, Erro: 0.0012, Acurácia: 1.0000\n",
      "Treino - Lote número 001, Erro: 0.0008, Acurácia: 1.0000\n",
      "Treino - Lote número 002, Erro: 0.0001, Acurácia: 1.0000\n",
      "Treino - Lote número 003, Erro: 0.0011, Acurácia: 1.0000\n",
      "Treino - Lote número 004, Erro: 0.0001, Acurácia: 1.0000\n",
      "Treino - Lote número 005, Erro: 0.0008, Acurácia: 1.0000\n",
      "Validação - Lote número: 000, Erro: 0.0017, Acurácia: 1.0000\n",
      "Validação - Lote número: 001, Erro: 0.0000, Acurácia: 1.0000\n",
      "Época : 027, Treino: Erro: 0.0007, Acurácia: 100.0000%, \n",
      "\t\tValidação : Erro : 0.0015, Acurácia: 100.0000%, Tempo: 0.6933s\n",
      "\n",
      "\n",
      "Época: 28/40\n",
      "Treino - Lote número 000, Erro: 0.0002, Acurácia: 1.0000\n",
      "Treino - Lote número 001, Erro: 0.0002, Acurácia: 1.0000\n",
      "Treino - Lote número 002, Erro: 0.0132, Acurácia: 1.0000\n",
      "Treino - Lote número 003, Erro: 0.0002, Acurácia: 1.0000\n",
      "Treino - Lote número 004, Erro: 0.0002, Acurácia: 1.0000\n",
      "Treino - Lote número 005, Erro: 0.0001, Acurácia: 1.0000\n",
      "Validação - Lote número: 000, Erro: 0.0019, Acurácia: 1.0000\n",
      "Validação - Lote número: 001, Erro: 0.0026, Acurácia: 1.0000\n",
      "Época : 028, Treino: Erro: 0.0024, Acurácia: 100.0000%, \n",
      "\t\tValidação : Erro : 0.0020, Acurácia: 100.0000%, Tempo: 0.6812s\n",
      "\n",
      "\n",
      "Época: 29/40\n",
      "Treino - Lote número 000, Erro: 0.0002, Acurácia: 1.0000\n",
      "Treino - Lote número 001, Erro: 0.0004, Acurácia: 1.0000\n",
      "Treino - Lote número 002, Erro: 0.0001, Acurácia: 1.0000\n",
      "Treino - Lote número 003, Erro: 0.0050, Acurácia: 1.0000\n",
      "Treino - Lote número 004, Erro: 0.0072, Acurácia: 1.0000\n",
      "Treino - Lote número 005, Erro: 0.0011, Acurácia: 1.0000\n",
      "Validação - Lote número: 000, Erro: 0.0011, Acurácia: 1.0000\n",
      "Validação - Lote número: 001, Erro: 0.0107, Acurácia: 1.0000\n",
      "Época : 029, Treino: Erro: 0.0024, Acurácia: 100.0000%, \n",
      "\t\tValidação : Erro : 0.0021, Acurácia: 100.0000%, Tempo: 0.6748s\n",
      "\n",
      "\n",
      "Época: 30/40\n",
      "Treino - Lote número 000, Erro: 0.0011, Acurácia: 1.0000\n",
      "Treino - Lote número 001, Erro: 0.0001, Acurácia: 1.0000\n",
      "Treino - Lote número 002, Erro: 0.0022, Acurácia: 1.0000\n",
      "Treino - Lote número 003, Erro: 0.0001, Acurácia: 1.0000\n",
      "Treino - Lote número 004, Erro: 0.0001, Acurácia: 1.0000\n",
      "Treino - Lote número 005, Erro: 0.0003, Acurácia: 1.0000\n",
      "Validação - Lote número: 000, Erro: 0.0018, Acurácia: 1.0000\n",
      "Validação - Lote número: 001, Erro: 0.0001, Acurácia: 1.0000\n",
      "Época : 030, Treino: Erro: 0.0006, Acurácia: 100.0000%, \n",
      "\t\tValidação : Erro : 0.0016, Acurácia: 100.0000%, Tempo: 0.6416s\n",
      "\n",
      "\n",
      "Época: 31/40\n",
      "Treino - Lote número 000, Erro: 0.0001, Acurácia: 1.0000\n",
      "Treino - Lote número 001, Erro: 0.0005, Acurácia: 1.0000\n",
      "Treino - Lote número 002, Erro: 0.0003, Acurácia: 1.0000\n",
      "Treino - Lote número 003, Erro: 0.0001, Acurácia: 1.0000\n",
      "Treino - Lote número 004, Erro: 0.0001, Acurácia: 1.0000\n",
      "Treino - Lote número 005, Erro: 0.0001, Acurácia: 1.0000\n",
      "Validação - Lote número: 000, Erro: 0.0016, Acurácia: 1.0000\n",
      "Validação - Lote número: 001, Erro: 0.0000, Acurácia: 1.0000\n",
      "Época : 031, Treino: Erro: 0.0002, Acurácia: 100.0000%, \n",
      "\t\tValidação : Erro : 0.0014, Acurácia: 100.0000%, Tempo: 0.6584s\n",
      "\n",
      "\n",
      "Época: 32/40\n",
      "Treino - Lote número 000, Erro: 0.0000, Acurácia: 1.0000\n",
      "Treino - Lote número 001, Erro: 0.0003, Acurácia: 1.0000\n",
      "Treino - Lote número 002, Erro: 0.0003, Acurácia: 1.0000\n",
      "Treino - Lote número 003, Erro: 0.0002, Acurácia: 1.0000\n",
      "Treino - Lote número 004, Erro: 0.0000, Acurácia: 1.0000\n",
      "Treino - Lote número 005, Erro: 0.0001, Acurácia: 1.0000\n",
      "Validação - Lote número: 000, Erro: 0.0015, Acurácia: 1.0000\n",
      "Validação - Lote número: 001, Erro: 0.0000, Acurácia: 1.0000\n",
      "Época : 032, Treino: Erro: 0.0002, Acurácia: 100.0000%, \n",
      "\t\tValidação : Erro : 0.0014, Acurácia: 100.0000%, Tempo: 0.6497s\n",
      "\n",
      "\n",
      "Época: 33/40\n",
      "Treino - Lote número 000, Erro: 0.0002, Acurácia: 1.0000\n",
      "Treino - Lote número 001, Erro: 0.0004, Acurácia: 1.0000\n",
      "Treino - Lote número 002, Erro: 0.0003, Acurácia: 1.0000\n",
      "Treino - Lote número 003, Erro: 0.0007, Acurácia: 1.0000\n",
      "Treino - Lote número 004, Erro: 0.0001, Acurácia: 1.0000\n",
      "Treino - Lote número 005, Erro: 0.0000, Acurácia: 1.0000\n",
      "Validação - Lote número: 000, Erro: 0.0015, Acurácia: 1.0000\n",
      "Validação - Lote número: 001, Erro: 0.0001, Acurácia: 1.0000\n",
      "Época : 033, Treino: Erro: 0.0003, Acurácia: 100.0000%, \n",
      "\t\tValidação : Erro : 0.0013, Acurácia: 100.0000%, Tempo: 0.6940s\n",
      "\n",
      "\n",
      "Época: 34/40\n",
      "Treino - Lote número 000, Erro: 0.0002, Acurácia: 1.0000\n",
      "Treino - Lote número 001, Erro: 0.0001, Acurácia: 1.0000\n",
      "Treino - Lote número 002, Erro: 0.0002, Acurácia: 1.0000\n",
      "Treino - Lote número 003, Erro: 0.0001, Acurácia: 1.0000\n",
      "Treino - Lote número 004, Erro: 0.0009, Acurácia: 1.0000\n",
      "Treino - Lote número 005, Erro: 0.0002, Acurácia: 1.0000\n",
      "Validação - Lote número: 000, Erro: 0.0015, Acurácia: 1.0000\n",
      "Validação - Lote número: 001, Erro: 0.0002, Acurácia: 1.0000\n",
      "Época : 034, Treino: Erro: 0.0003, Acurácia: 100.0000%, \n",
      "\t\tValidação : Erro : 0.0013, Acurácia: 100.0000%, Tempo: 0.7114s\n",
      "\n",
      "\n",
      "Época: 35/40\n",
      "Treino - Lote número 000, Erro: 0.0003, Acurácia: 1.0000\n",
      "Treino - Lote número 001, Erro: 0.0001, Acurácia: 1.0000\n",
      "Treino - Lote número 002, Erro: 0.0022, Acurácia: 1.0000\n",
      "Treino - Lote número 003, Erro: 0.0001, Acurácia: 1.0000\n",
      "Treino - Lote número 004, Erro: 0.0000, Acurácia: 1.0000\n",
      "Treino - Lote número 005, Erro: 0.0000, Acurácia: 1.0000\n",
      "Validação - Lote número: 000, Erro: 0.0013, Acurácia: 1.0000\n",
      "Validação - Lote número: 001, Erro: 0.0019, Acurácia: 1.0000\n",
      "Época : 035, Treino: Erro: 0.0004, Acurácia: 100.0000%, \n",
      "\t\tValidação : Erro : 0.0014, Acurácia: 100.0000%, Tempo: 0.6925s\n",
      "\n",
      "\n",
      "Época: 36/40\n",
      "Treino - Lote número 000, Erro: 0.0001, Acurácia: 1.0000\n",
      "Treino - Lote número 001, Erro: 0.0001, Acurácia: 1.0000\n",
      "Treino - Lote número 002, Erro: 0.0002, Acurácia: 1.0000\n",
      "Treino - Lote número 003, Erro: 0.0017, Acurácia: 1.0000\n",
      "Treino - Lote número 004, Erro: 0.0002, Acurácia: 1.0000\n",
      "Treino - Lote número 005, Erro: 0.0000, Acurácia: 1.0000\n",
      "Validação - Lote número: 000, Erro: 0.0017, Acurácia: 1.0000\n",
      "Validação - Lote número: 001, Erro: 0.0000, Acurácia: 1.0000\n",
      "Época : 036, Treino: Erro: 0.0004, Acurácia: 100.0000%, \n",
      "\t\tValidação : Erro : 0.0015, Acurácia: 100.0000%, Tempo: 0.6853s\n",
      "\n",
      "\n",
      "Época: 37/40\n",
      "Treino - Lote número 000, Erro: 0.0021, Acurácia: 1.0000\n",
      "Treino - Lote número 001, Erro: 0.0001, Acurácia: 1.0000\n",
      "Treino - Lote número 002, Erro: 0.0000, Acurácia: 1.0000\n",
      "Treino - Lote número 003, Erro: 0.0005, Acurácia: 1.0000\n",
      "Treino - Lote número 004, Erro: 0.0002, Acurácia: 1.0000\n",
      "Treino - Lote número 005, Erro: 0.0000, Acurácia: 1.0000\n",
      "Validação - Lote número: 000, Erro: 0.0018, Acurácia: 1.0000\n",
      "Validação - Lote número: 001, Erro: 0.0000, Acurácia: 1.0000\n",
      "Época : 037, Treino: Erro: 0.0005, Acurácia: 100.0000%, \n",
      "\t\tValidação : Erro : 0.0016, Acurácia: 100.0000%, Tempo: 0.6905s\n",
      "\n",
      "\n",
      "Época: 38/40\n",
      "Treino - Lote número 000, Erro: 0.0015, Acurácia: 1.0000\n",
      "Treino - Lote número 001, Erro: 0.0000, Acurácia: 1.0000\n",
      "Treino - Lote número 002, Erro: 0.0002, Acurácia: 1.0000\n",
      "Treino - Lote número 003, Erro: 0.0003, Acurácia: 1.0000\n",
      "Treino - Lote número 004, Erro: 0.0001, Acurácia: 1.0000\n",
      "Treino - Lote número 005, Erro: 0.0002, Acurácia: 1.0000\n",
      "Validação - Lote número: 000, Erro: 0.0018, Acurácia: 1.0000\n",
      "Validação - Lote número: 001, Erro: 0.0000, Acurácia: 1.0000\n",
      "Época : 038, Treino: Erro: 0.0004, Acurácia: 100.0000%, \n",
      "\t\tValidação : Erro : 0.0016, Acurácia: 100.0000%, Tempo: 0.6873s\n",
      "\n",
      "\n",
      "Época: 39/40\n",
      "Treino - Lote número 000, Erro: 0.0004, Acurácia: 1.0000\n",
      "Treino - Lote número 001, Erro: 0.0000, Acurácia: 1.0000\n",
      "Treino - Lote número 002, Erro: 0.0002, Acurácia: 1.0000\n",
      "Treino - Lote número 003, Erro: 0.0004, Acurácia: 1.0000\n",
      "Treino - Lote número 004, Erro: 0.0006, Acurácia: 1.0000\n",
      "Treino - Lote número 005, Erro: 0.0004, Acurácia: 1.0000\n",
      "Validação - Lote número: 000, Erro: 0.0018, Acurácia: 1.0000\n",
      "Validação - Lote número: 001, Erro: 0.0002, Acurácia: 1.0000\n",
      "Época : 039, Treino: Erro: 0.0003, Acurácia: 100.0000%, \n",
      "\t\tValidação : Erro : 0.0016, Acurácia: 100.0000%, Tempo: 0.6924s\n",
      "\n",
      "\n",
      "Época: 40/40\n",
      "Treino - Lote número 000, Erro: 0.0000, Acurácia: 1.0000\n",
      "Treino - Lote número 001, Erro: 0.0001, Acurácia: 1.0000\n",
      "Treino - Lote número 002, Erro: 0.0002, Acurácia: 1.0000\n",
      "Treino - Lote número 003, Erro: 0.0005, Acurácia: 1.0000\n",
      "Treino - Lote número 004, Erro: 0.0002, Acurácia: 1.0000\n",
      "Treino - Lote número 005, Erro: 0.0001, Acurácia: 1.0000\n",
      "Validação - Lote número: 000, Erro: 0.0018, Acurácia: 1.0000\n",
      "Validação - Lote número: 001, Erro: 0.0000, Acurácia: 1.0000\n",
      "Época : 040, Treino: Erro: 0.0002, Acurácia: 100.0000%, \n",
      "\t\tValidação : Erro : 0.0016, Acurácia: 100.0000%, Tempo: 0.6937s\n"
     ]
    }
   ],
   "source": [
    "# Se você for rico e tiver uma RTX 3080 (que sonho!!)\n",
    "# Mas se não for, sem problemas, sua CPU provavelmente vai dar conta do recado!\n",
    "device = torch.device(\"cuda:0\" if torch.cuda.is_available() else \"cpu\")\n",
    "\n",
    "# Imprime se vai ser CPU ou alguma GPU\n",
    "print(f'{device}\\n')\n",
    "\n",
    "# Define o número de épocas\n",
    "numero_de_epocas = 40\n",
    "\n",
    "# treina o modelo! Finalmente!!\n",
    "modelo_treinado, historico = treinar_e_validar(alexnet, funcao_erro, otimizador, numero_de_epocas)"
   ]
  },
  {
   "cell_type": "code",
   "execution_count": 43,
   "metadata": {},
   "outputs": [
    {
     "data": {
      "image/png": "[encoded data removed]",
      "text/plain": [
       "<Figure size 640x480 with 1 Axes>"
      ]
     },
     "metadata": {},
     "output_type": "display_data"
    }
   ],
   "source": [
    "# Mostra o erro de treino e validação a cada época treinada\n",
    "\n",
    "historico = np.array(historico)\n",
    "\n",
    "plt.plot(historico[:,0:2])\n",
    "plt.legend(['Erro Treino', 'Erro Validação'])\n",
    "plt.xlabel('Época')\n",
    "plt.ylabel('Erro')\n",
    "plt.ylim(0,0.1)\n",
    "plt.show()"
   ]
  },
  {
   "cell_type": "markdown",
   "metadata": {},
   "source": [
    "# Predição de nosso Modelo"
   ]
  },
  {
   "cell_type": "code",
   "execution_count": 45,
   "metadata": {},
   "outputs": [],
   "source": [
    "def predicao(modelo, arquivo_imagem_teste):\n",
    "    '''\n",
    "    Função para realizar a predição do status do AR\n",
    "    Parâmetros\n",
    "        :param modelo: modelo para testar\n",
    "        :param arquivo_imagem_teste: caminho para imagem de teste\n",
    "    '''\n",
    "    \n",
    "    transformacao = transformacoes_de_imagens['teste']\n",
    "\n",
    "    imagem_teste = PIL.Image.open(arquivo_imagem_teste)\n",
    "    plt.imshow(imagem_teste)\n",
    "    \n",
    "    tensor_imagem_teste = transformacao(imagem_teste)\n",
    "\n",
    "    # Testa se voce é rico, ops, se tem uma placa NVIDIA :)\n",
    "    if torch.cuda.is_available():\n",
    "        tensor_imagem_teste = tensor_imagem_teste.view(1, 3, image_size, image_size).cuda()\n",
    "    else:\n",
    "        tensor_imagem_teste = tensor_imagem_teste.view(1, 3, image_size, image_size)\n",
    "    \n",
    "    dict_predicoes = dict()\n",
    "    \n",
    "    # Não precisa atualizar os coeficientes do modelo\n",
    "    with torch.no_grad():\n",
    "        modelo.eval()\n",
    "        # Modelo retorna as probabilidades em log (log softmax)\n",
    "        saida = modelo(tensor_imagem_teste)\n",
    "        \n",
    "        # torch.exp para voltar a probabilidade de log para a probabilidade linear\n",
    "        ps = torch.exp(saida)\n",
    "        \n",
    "        # topk retorna o os k maiores valores do tensor\n",
    "        # o tensor de probabilidades vai trazer na 1a posição a classe com maior\n",
    "        # probabilidade de predição\n",
    "        topk, topclass = ps.topk(numero_de_classes, dim=1)\n",
    "        for i in range(numero_de_classes):\n",
    "            dict_predicoes[indice_para_classe[topclass.cpu().numpy()[0][i]]] = topk.cpu().numpy()[0][i]\n",
    "    \n",
    "    return dict_predicoes"
   ]
  },
  {
   "cell_type": "code",
   "execution_count": 69,
   "metadata": {},
   "outputs": [
    {
     "data": {
      "text/plain": [
       "{'chocolate': 0.9999999, 'cocacola': 1.2983168e-07, 'guarana': 3.264967e-09}"
      ]
     },
     "execution_count": 69,
     "metadata": {},
     "output_type": "execute_result"
    },
    {
     "data": {
      "image/png": "[encoded data removed]",
      "text/plain": [
       "<Figure size 640x480 with 1 Axes>"
      ]
     },
     "metadata": {},
     "output_type": "display_data"
    }
   ],
   "source": [
    "classe = 'chocolate' # Façõ a predição com esta classe!\n",
    "pasta = f'./data/teste/{classe}/'\n",
    "imagem = os.path.join(pasta, os.listdir(pasta)[1])\n",
    "\n",
    "predicao(modelo_treinado, imagem)"
   ]
  },
  {
   "cell_type": "code",
   "execution_count": 23,
   "metadata": {},
   "outputs": [],
   "source": [
    "torch.save(modelo_treinado, './modelos/melhor_modelo.pt')"
   ]
  }
 ],
 "metadata": {
  "kernelspec": {
   "display_name": "Python 3.8.10 ('venv': venv)",
   "language": "python",
   "name": "python3"
  },
  "language_info": {
   "codemirror_mode": {
    "name": "ipython",
    "version": 3
   },
   "file_extension": ".py",
   "mimetype": "text/x-python",
   "name": "python",
   "nbconvert_exporter": "python",
   "pygments_lexer": "ipython3",
   "version": "3.8.10"
  },
  "orig_nbformat": 4,
  "vscode": {
   "interpreter": {
    "hash": "188136318cf6055cba8ecc68b3950589dd9b0ac73e51fc52677697842d98696c"
   }
  }
 },
 "nbformat": 4,
 "nbformat_minor": 2
}
