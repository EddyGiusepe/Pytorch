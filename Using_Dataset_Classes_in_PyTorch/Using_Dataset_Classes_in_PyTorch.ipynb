{
 "cells": [
  {
   "cell_type": "markdown",
   "metadata": {},
   "source": [
    "<h1 align=\"center\">Using Dataset Classes in PyTorch</h1>"
   ]
  },
  {
   "cell_type": "markdown",
   "metadata": {},
   "source": [
    "Data Scientist.: Dr.Eddy Giusepe Chirinos Isidro"
   ]
  },
  {
   "cell_type": "markdown",
   "metadata": {},
   "source": [
    "Em problemas de `Machine Learning` e `Deep Learning`, muito esforço é dedicado à preparação dos dados. Os dados geralmente são confusos e precisam ser pré-processados ​​antes de serem usados ​​para treinar um modelo. Se os dados não forem preparados corretamente, o modelo não poderá generalizar bem. Algumas das etapas comuns necessárias para o pré-processamento de dados incluem:\n",
    "\n",
    "* <font color=\"red\">Normalização de dados (`Data normalization`):</font> Isto inclui a normalização dos dados entre um intervalo de valores em um Dataset.\n",
    "\n",
    "* <font color=\"red\">Aumento de dados (`Data augmentation`):</font> Isso inclui a geração de novas amostras a partir das existentes, adicionando ruído ou mudanças nas features para torná-los mais diversos.\n",
    "\n",
    "A preparação de dados é uma etapa crucial em qualquer pipeline de Machine Learning. O `PyTorch` traz muitos módulos, como `torchvision`, que fornece Datasets e classes de Dataset para facilitar a preparação dos dados.\n",
    "\n",
    "Neste script, aprenderemos a como trabalhar com conjuntos de dados e transformações no `PyTorch` para que você possa criar suas próprias `classes de conjunto de dados personalizadas` e manipular os conjuntos de dados da maneira que desejar. Em particular, aprenderemos:\n",
    "\n",
    "* Como criar uma classe de `dataset` simples e aplicar transformações a ela.\n",
    "\n",
    "* Como criar transformações chamáveis ​​e aplicá-las ao objeto `dataset`.\n",
    "\n",
    "* Como compor várias transformações em um objeto `dataset`.\n",
    "\n",
    "Observe que aqui você jogará com conjuntos de dados simples para compreensão geral dos conceitos, enquanto na próxima parte deste script você terá a chance de trabalhar com objetos de `dataset` para imagens."
   ]
  },
  {
   "cell_type": "markdown",
   "metadata": {},
   "source": []
  }
 ],
 "metadata": {
  "language_info": {
   "name": "python"
  },
  "orig_nbformat": 4
 },
 "nbformat": 4,
 "nbformat_minor": 2
}
