{
 "cells": [
  {
   "cell_type": "markdown",
   "metadata": {},
   "source": [
    "<h1 align=\"center\">Loading and Providing Datasets in PyTorch</h1>"
   ]
  },
  {
   "cell_type": "markdown",
   "metadata": {},
   "source": [
    "Data Scientist.: Dr.Eddy Giusepe Chirinos Isidro"
   ]
  },
  {
   "cell_type": "markdown",
   "metadata": {},
   "source": [
    "Estruturar o pipeline de dados de forma que ele possa ser facilmente vinculado ao seu modelo de `aprendizado profundo` é um aspecto importante de qualquer sistema baseado em aprendizado profundo. `PyTorch` empacota tudo para fazer exatamente isso.\n",
    "\n",
    "Enquanto no [tutorial anterior](https://machinelearningmastery.com/using-dataset-classes-in-pytorch/) usamos conjuntos de dados simples, precisaremos trabalhar com conjuntos de dados maiores em cenários do mundo real para explorar totalmente o potencial do `aprendizado profundo` e das `Redes Neurais`.\n",
    "\n",
    "Neste script, você aprenderá como criar conjuntos de dados personalizados no `PyTorch`. Embora o foco aqui permaneça apenas nos dados de imagem, os `conceitos aprendidos nesta sessão podem ser aplicados a qualquer forma de conjunto de dados`, como texto ou conjuntos de dados tabulares. Então, aqui você vai aprender:\n",
    "\n",
    "\n",
    "* Como trabalhar com conjuntos de dados de imagem pré-carregados no `PyTorch`.\n",
    "\n",
    "* Como aplicar transformações de `torchvision` em conjuntos de dados pré-carregados.\n",
    "\n",
    "* Como criar uma `classe` de conjunto de dados de imagem personalizada no PyTorch e aplicar várias transformações nela."
   ]
  },
  {
   "cell_type": "markdown",
   "metadata": {},
   "source": [
    "# Conjuntos de dados pré-carregados no PyTorch"
   ]
  },
  {
   "cell_type": "markdown",
   "metadata": {},
   "source": [
    "Uma variedade de conjuntos de dados pré-carregados, como `CIFAR-10`, `MNIST`, `Fashion-MNIST`, etc. estão disponíveis na biblioteca de domínio `PyTorch`. Você pode importá-los do `torchvision` e realizar seus experimentos. Além disso, você pode comparar seu modelo usando esses conjuntos de dados.\n",
    "\n",
    "Continuaremos importando o conjunto de dados `Fashion-MNIST` de torchivision. O conjunto de dados `Fashion-MNIST` inclui $70.000$ imagens em tons de cinza em $28$ × $28$ pixels, divididas em dez classes, e cada classe contém $7.000$ imagens. Existem $60.000$ imagens para treinamento e $10.000$ para teste.\n",
    "\n",
    "Vamos começar importando algumas bibliotecas que usaremos neste tutorial."
   ]
  },
  {
   "cell_type": "code",
   "execution_count": 1,
   "metadata": {},
   "outputs": [
    {
     "name": "stderr",
     "output_type": "stream",
     "text": [
      "/home/eddygiusepe/17_Pytorch/Pytorch/venv/lib/python3.8/site-packages/tqdm/auto.py:22: TqdmWarning: IProgress not found. Please update jupyter and ipywidgets. See https://ipywidgets.readthedocs.io/en/stable/user_install.html\n",
      "  from .autonotebook import tqdm as notebook_tqdm\n"
     ]
    },
    {
     "data": {
      "text/plain": [
       "<torch._C.Generator at 0x7f1965598090>"
      ]
     },
     "execution_count": 1,
     "metadata": {},
     "output_type": "execute_result"
    }
   ],
   "source": [
    "import torch\n",
    "from torch.utils.data import Dataset\n",
    "from torchvision import datasets\n",
    "import torchvision.transforms as transforms\n",
    "import numpy as np\n",
    "import pandas as pd\n",
    "import matplotlib.pyplot as plt\n",
    "#%matplotilib inline\n",
    "\n",
    "torch.manual_seed(42)\n"
   ]
  },
  {
   "cell_type": "markdown",
   "metadata": {},
   "source": [
    "Vamos também definir uma função auxiliar para exibir os elementos de amostra no conjunto de dados usando `matplotlib`."
   ]
  },
  {
   "cell_type": "code",
   "execution_count": 2,
   "metadata": {},
   "outputs": [],
   "source": [
    "def imshow(sample_element, shape = (28, 28)):\n",
    "    plt.imshow(sample_element[0].numpy().reshape(shape), cmap='gray')\n",
    "    plt.title('Label = ' + str(sample_element[1]))\n",
    "    plt.show()\n",
    "    "
   ]
  },
  {
   "cell_type": "markdown",
   "metadata": {},
   "source": [
    "Agora, carregaremos o conjunto de dados Fashion-MNIST, usando a função `FashionMNIST()` de `torchvision.datasets`. Esta função recebe alguns argumentos:\n",
    "\n",
    "* `root:` especifica o caminho onde vamos armazenar nossos dados.\n",
    "\n",
    "* `train:` indica se são dados de treino ou de teste. Vamos defini-lo como `False`, pois ainda não precisamos dele para o treinamento.\n",
    "\n",
    "* `download:` definido como `True`, o que significa que fará o download dos dados da Internet.\n",
    "\n",
    "* `transform:` nos permite usar qualquer uma das transformações disponíveis que precisamos aplicar em nosso conjunto de dados."
   ]
  },
  {
   "cell_type": "code",
   "execution_count": 3,
   "metadata": {},
   "outputs": [],
   "source": [
    "dataset = datasets.FashionMNIST(\n",
    "    root='./data',\n",
    "    train=False,\n",
    "    download=True,\n",
    "    transform=transforms.ToTensor()\n",
    ")"
   ]
  },
  {
   "cell_type": "markdown",
   "metadata": {},
   "source": [
    "Vamos verificar os nomes das classes junto com seus rótulos correspondentes que temos no conjunto de dados `Fashion-MNIST`."
   ]
  },
  {
   "cell_type": "code",
   "execution_count": 4,
   "metadata": {},
   "outputs": [
    {
     "name": "stdout",
     "output_type": "stream",
     "text": [
      "['T-shirt/top', 'Trouser', 'Pullover', 'Dress', 'Coat', 'Sandal', 'Shirt', 'Sneaker', 'Bag', 'Ankle boot']\n"
     ]
    }
   ],
   "source": [
    "classes = dataset.classes\n",
    "print(classes)"
   ]
  },
  {
   "cell_type": "code",
   "execution_count": 5,
   "metadata": {},
   "outputs": [
    {
     "name": "stdout",
     "output_type": "stream",
     "text": [
      "{'T-shirt/top': 0, 'Trouser': 1, 'Pullover': 2, 'Dress': 3, 'Coat': 4, 'Sandal': 5, 'Shirt': 6, 'Sneaker': 7, 'Bag': 8, 'Ankle boot': 9}\n"
     ]
    }
   ],
   "source": [
    "# Similar para as Labels:\n",
    "print(dataset.class_to_idx)"
   ]
  },
  {
   "cell_type": "markdown",
   "metadata": {},
   "source": [
    "A seguir podemos visualizar o primeiro elemento do conjunto de dados com seu rótulo correspondente usando a função auxiliar definida acima (`imshow`)."
   ]
  },
  {
   "cell_type": "code",
   "execution_count": 6,
   "metadata": {},
   "outputs": [
    {
     "data": {
      "text/plain": [
       "Dataset FashionMNIST\n",
       "    Number of datapoints: 10000\n",
       "    Root location: ./data\n",
       "    Split: Test\n",
       "    StandardTransform\n",
       "Transform: ToTensor()"
      ]
     },
     "execution_count": 6,
     "metadata": {},
     "output_type": "execute_result"
    }
   ],
   "source": [
    "dataset"
   ]
  },
  {
   "cell_type": "code",
   "execution_count": 8,
   "metadata": {},
   "outputs": [
    {
     "data": {
      "text/plain": [
       "torch.Size([1, 28, 28])"
      ]
     },
     "execution_count": 8,
     "metadata": {},
     "output_type": "execute_result"
    }
   ],
   "source": [
    "# Forma original da primeira amostra de Dados:\n",
    "dataset[0][0].shape"
   ]
  },
  {
   "cell_type": "code",
   "execution_count": 9,
   "metadata": {},
   "outputs": [
    {
     "data": {
      "image/png": "[encoded data removed]",
      "text/plain": [
       "<Figure size 640x480 with 1 Axes>"
      ]
     },
     "metadata": {},
     "output_type": "display_data"
    }
   ],
   "source": [
    "imshow(dataset[0])"
   ]
  },
  {
   "cell_type": "code",
   "execution_count": 10,
   "metadata": {},
   "outputs": [
    {
     "data": {
      "image/png": "[encoded data removed]",
      "text/plain": [
       "<Figure size 640x480 with 1 Axes>"
      ]
     },
     "metadata": {},
     "output_type": "display_data"
    }
   ],
   "source": [
    "imshow(dataset[3])"
   ]
  },
  {
   "cell_type": "markdown",
   "metadata": {},
   "source": [
    "# Aplicando transformações do Torchvision em conjuntos de dados de imagem"
   ]
  },
  {
   "cell_type": "markdown",
   "metadata": {},
   "source": [
    "Em muitos casos, teremos que aplicar várias transformações antes de alimentar as imagens às `Redes Neurais`. <font color=\"yellow\">Por exemplo:</font> muitas vezes precisaremos `RandomCrop` das imagens para aumentar os dados (`Data Augmentation`).\n",
    "\n",
    "Como você pode ver abaixo, o `PyTorch` nos permite escolher entre uma variedade de transformações."
   ]
  },
  {
   "cell_type": "code",
   "execution_count": 11,
   "metadata": {},
   "outputs": [
    {
     "name": "stdout",
     "output_type": "stream",
     "text": [
      "['AugMix', 'AutoAugment', 'AutoAugmentPolicy', 'CenterCrop', 'ColorJitter', 'Compose', 'ConvertImageDtype', 'FiveCrop', 'GaussianBlur', 'Grayscale', 'InterpolationMode', 'Lambda', 'LinearTransformation', 'Normalize', 'PILToTensor', 'Pad', 'RandAugment', 'RandomAdjustSharpness', 'RandomAffine', 'RandomApply', 'RandomAutocontrast', 'RandomChoice', 'RandomCrop', 'RandomEqualize', 'RandomErasing', 'RandomGrayscale', 'RandomHorizontalFlip', 'RandomInvert', 'RandomOrder', 'RandomPerspective', 'RandomPosterize', 'RandomResizedCrop', 'RandomRotation', 'RandomSolarize', 'RandomVerticalFlip', 'Resize', 'TenCrop', 'ToPILImage', 'ToTensor', 'TrivialAugmentWide', '__builtins__', '__cached__', '__doc__', '__file__', '__loader__', '__name__', '__package__', '__path__', '__spec__', '_pil_constants', '_presets', 'autoaugment', 'functional', 'functional_pil', 'functional_tensor', 'transforms']\n"
     ]
    }
   ],
   "source": [
    "# Isso mostra todas as funções de transformação disponíveis:\n",
    "\n",
    "print(dir(transforms))"
   ]
  },
  {
   "cell_type": "markdown",
   "metadata": {},
   "source": [
    "Como exemplo, vamos aplicar a transformação `RandomCrop` às imagens `Fashion-MNIST` e convertê-las em um `tensor`. Podemos usar `transform.Compose` para combinar várias transformações conforme aprendemos no tutorial anterior."
   ]
  },
  {
   "cell_type": "code",
   "execution_count": 12,
   "metadata": {},
   "outputs": [
    {
     "name": "stdout",
     "output_type": "stream",
     "text": [
      "shape of the first data sample:  torch.Size([1, 16, 16])\n"
     ]
    }
   ],
   "source": [
    "randomcrop_totensor_transform = transforms.Compose([transforms.CenterCrop(16), transforms.ToTensor()])\n",
    "\n",
    "\n",
    "dataset = datasets.FashionMNIST(root='./data',\n",
    "                                train=False, download=True,\n",
    "                                transform=randomcrop_totensor_transform)\n",
    "\n",
    "print(\"shape of the first data sample: \", dataset[0][0].shape)"
   ]
  },
  {
   "cell_type": "markdown",
   "metadata": {},
   "source": [
    "Como você pode ver, a imagem agora foi cortada (`cropped`) para `16` x `16` píxeis. Agora, vamos plotar o primeiro elemento do conjunto de dados para ver como eles foram cortados aleatoriamente."
   ]
  },
  {
   "cell_type": "code",
   "execution_count": 13,
   "metadata": {},
   "outputs": [
    {
     "data": {
      "image/png": "[encoded data removed]",
      "text/plain": [
       "<Figure size 640x480 with 1 Axes>"
      ]
     },
     "metadata": {},
     "output_type": "display_data"
    }
   ],
   "source": [
    "imshow(dataset[0], shape=(16, 16))"
   ]
  },
  {
   "cell_type": "markdown",
   "metadata": {},
   "source": [
    "Juntando tudo, o código completo é o seguinte:"
   ]
  },
  {
   "cell_type": "code",
   "execution_count": 15,
   "metadata": {},
   "outputs": [
    {
     "name": "stdout",
     "output_type": "stream",
     "text": [
      "['T-shirt/top', 'Trouser', 'Pullover', 'Dress', 'Coat', 'Sandal', 'Shirt', 'Sneaker', 'Bag', 'Ankle boot']\n",
      "{'T-shirt/top': 0, 'Trouser': 1, 'Pullover': 2, 'Dress': 3, 'Coat': 4, 'Sandal': 5, 'Shirt': 6, 'Sneaker': 7, 'Bag': 8, 'Ankle boot': 9}\n"
     ]
    },
    {
     "data": {
      "image/png": "[encoded data removed]",
      "text/plain": [
       "<Figure size 640x480 with 1 Axes>"
      ]
     },
     "metadata": {},
     "output_type": "display_data"
    },
    {
     "name": "stdout",
     "output_type": "stream",
     "text": [
      "shape of the first data sample:  torch.Size([1, 16, 16])\n"
     ]
    },
    {
     "data": {
      "image/png": "[encoded data removed]",
      "text/plain": [
       "<Figure size 640x480 with 1 Axes>"
      ]
     },
     "metadata": {},
     "output_type": "display_data"
    }
   ],
   "source": [
    "import torch\n",
    "from torch.utils.data import Dataset\n",
    "from torchvision import datasets\n",
    "import torchvision.transforms as transforms\n",
    "import numpy as np\n",
    "import matplotlib.pyplot as plt\n",
    "torch.manual_seed(42)\n",
    " \n",
    "def imshow(sample_element, shape = (28, 28)):\n",
    "    plt.imshow(sample_element[0].numpy().reshape(shape), cmap='gray')\n",
    "    plt.title('Label = ' + str(sample_element[1]))\n",
    "    plt.show()\n",
    " \n",
    "dataset = datasets.FashionMNIST(\n",
    "    root='./data',\n",
    "    train=False,\n",
    "    download=True,\n",
    "    transform=transforms.ToTensor()\n",
    ")\n",
    " \n",
    "classes = dataset.classes\n",
    "print(classes)\n",
    "print(dataset.class_to_idx)\n",
    " \n",
    "imshow(dataset[0])\n",
    " \n",
    "randomcrop_totensor_transform = transforms.Compose([transforms.CenterCrop(16),\n",
    "                                                    transforms.ToTensor()])\n",
    "dataset = datasets.FashionMNIST(\n",
    "    root='./data',\n",
    "    train=False,\n",
    "    download=True,\n",
    "    transform=randomcrop_totensor_transform)\n",
    "\n",
    " \n",
    "print(\"shape of the first data sample: \", dataset[0][0].shape)\n",
    "imshow(dataset[0], shape=(16, 16))"
   ]
  },
  {
   "cell_type": "markdown",
   "metadata": {},
   "source": [
    "# <font color='red'>Como criar conjuntos de dados de imagens personalizados</font>"
   ]
  },
  {
   "cell_type": "markdown",
   "metadata": {},
   "source": [
    "`Até agora, discutimos conjuntos de dados pré-construídos no PyTorch`, mas e se tivermos que criar uma classe de conjunto de dados personalizada para nosso conjunto de dados de imagem? Enquanto no [tutorial anterior](https://machinelearningmastery.com/using-dataset-classes-in-pytorch/) tivemos apenas uma visão geral simples sobre os componentes da classe `Dataset`, <font color=\"orange\">aqui criaremos uma classe de conjunto de dados de imagem personalizada a partir do zero</font>.\n",
    "\n",
    "\n",
    "`Primeiramente`, no construtor definimos os parâmetros da classe. A função `__init__` na classe instancia o objeto `Dataset`. O diretório onde as imagens e anotações são armazenadas é inicializado junto com as transformações se quisermos aplicá-las em nosso conjunto de dados posteriormente. Aqui assumimos que temos algumas imagens em uma estrutura de diretório como a seguinte:"
   ]
  },
  {
   "cell_type": "markdown",
   "metadata": {},
   "source": [
    "```\n",
    "attface/\n",
    "|-- imagedata.csv\n",
    "|-- s1/\n",
    "|   |-- 1.png\n",
    "|   |-- 2.png\n",
    "|   |-- 3.png\n",
    "|   ...\n",
    "|-- s2/\n",
    "|   |-- 1.png\n",
    "|   |-- 2.png\n",
    "|   |-- 3.png\n",
    "|   ...\n",
    "...\n",
    "```"
   ]
  },
  {
   "cell_type": "markdown",
   "metadata": {},
   "source": [
    "e a anotação é um arquivo `CSV` como o seguinte, localizado no diretório raiz das imagens (ou seja, `\"attface\"` acima):"
   ]
  },
  {
   "cell_type": "markdown",
   "metadata": {},
   "source": [
    "```\n",
    "s1/1.png,1\n",
    "s1/2.png,1\n",
    "s1/3.png,1\n",
    "...\n",
    "s12/1.png,12\n",
    "s12/2.png,12\n",
    "s12/3.png,12\n",
    "```"
   ]
  },
  {
   "cell_type": "markdown",
   "metadata": {},
   "source": [
    "onde a primeira coluna dos dados `CSV` é o caminho para a imagem e a segunda coluna é o rótulo.\n",
    "\n",
    "Da mesma forma, definimos a função `__len__` na classe que retorna o número total de amostras em nosso dataset de imagem enquanto o método `__getitem__` lê e retorna um elemento do dataset em um determinado índice.\n",
    "\n"
   ]
  },
  {
   "cell_type": "code",
   "execution_count": 16,
   "metadata": {},
   "outputs": [],
   "source": [
    "import os\n",
    "import pandas as pd\n",
    "import numpy as np\n",
    "from torchvision.io import read_image\n",
    " \n",
    "# creating object for our image dataset\n",
    "class CustomDatasetForImages(Dataset):\n",
    "    # defining constructor\n",
    "    def __init__(self, annotations, directory, transform=None):\n",
    "        # directory containing the images\n",
    "        self.directory = directory\n",
    "        annotations_file_dir = os.path.join(self.directory, annotations)\n",
    "        # loading the csv with info about images\n",
    "        self.labels = pd.read_csv(annotations_file_dir)\n",
    "        # transform to be applied on images\n",
    "        self.transform = transform\n",
    " \n",
    "        # Number of images in dataset\n",
    "        self.len = self.labels.shape[0]\n",
    " \n",
    "    # getting the length\n",
    "    def __len__(self):\n",
    "        return len(self.labels)\n",
    " \n",
    "    # getting the data items\n",
    "    def __getitem__(self, idx):\n",
    "        # defining the image path\n",
    "        image_path = os.path.join(self.directory, self.labels.iloc[idx, 0])\n",
    "        # reading the images\n",
    "        image = read_image(image_path)\n",
    "        # corresponding class labels of the images \n",
    "        label = self.labels.iloc[idx, 1]\n",
    " \n",
    "        # apply the transform if not set to None\n",
    "        if self.transform:\n",
    "            image = self.transform(image)\n",
    "        \n",
    "        # returning the image and label\n",
    "        return image, label"
   ]
  },
  {
   "cell_type": "markdown",
   "metadata": {},
   "source": [
    "Agora, podemos criar nosso objeto de conjunto de dados e aplicar as transformações nele. Assumimos que os dados da imagem estão localizados no diretório chamado `\"attface\"` e o arquivo `CSV` de anotação está em `\"attface/imagedata.csv\"`. Em seguida, o conjunto de dados é criado da seguinte forma:"
   ]
  },
  {
   "cell_type": "code",
   "execution_count": null,
   "metadata": {},
   "outputs": [],
   "source": [
    "directory = \"attface\"\n",
    "annotations = \"imagedata.csv\"\n",
    "custom_dataset = CustomDatasetForImages(annotations=annotations, directory=directory)\n"
   ]
  },
  {
   "cell_type": "markdown",
   "metadata": {},
   "source": [
    "Opcionalmente, você também pode adicionar a função de transformação ao conjunto de dados:"
   ]
  },
  {
   "cell_type": "code",
   "execution_count": null,
   "metadata": {},
   "outputs": [],
   "source": [
    "randomcrop_totensor_transform = transforms.RandomCrop(16)\n",
    "\n",
    "dataset = CustomDatasetForImages(annotations=annotations,\n",
    "                                 directory=directory,\n",
    "                                 transform=randomcrop_totensor_transform)"
   ]
  },
  {
   "cell_type": "markdown",
   "metadata": {},
   "source": [
    "<font color=\"orange\">Você pode usar essa classe de conjunto de dados de imagem personalizada para qualquer um dos seus conjuntos de dados armazenados em seu diretório e aplicar as transformações para seus requisitos.</font>"
   ]
  }
 ],
 "metadata": {
  "kernelspec": {
   "display_name": "Python 3.8.10 ('venv': venv)",
   "language": "python",
   "name": "python3"
  },
  "language_info": {
   "codemirror_mode": {
    "name": "ipython",
    "version": 3
   },
   "file_extension": ".py",
   "mimetype": "text/x-python",
   "name": "python",
   "nbconvert_exporter": "python",
   "pygments_lexer": "ipython3",
   "version": "3.8.10"
  },
  "orig_nbformat": 4,
  "vscode": {
   "interpreter": {
    "hash": "188136318cf6055cba8ecc68b3950589dd9b0ac73e51fc52677697842d98696c"
   }
  }
 },
 "nbformat": 4,
 "nbformat_minor": 2
}
