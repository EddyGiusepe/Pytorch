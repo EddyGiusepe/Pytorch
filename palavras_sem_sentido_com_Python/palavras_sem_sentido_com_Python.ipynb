{
 "cells": [
  {
   "attachments": {},
   "cell_type": "markdown",
   "metadata": {},
   "source": [
    "<h1 align=\"center\">Detecção de palavras sem sentido com Python para o Inglês</h1>"
   ]
  },
  {
   "attachments": {},
   "cell_type": "markdown",
   "metadata": {},
   "source": [
    "Data Scientist.: Dr.Eddy Giusepe Chirinos Isidro"
   ]
  },
  {
   "attachments": {},
   "cell_type": "markdown",
   "metadata": {},
   "source": [
    "Neste scritpt, aprenderemos como detectar palavras sem sentido em um trecho de texto usando Python. Usaremos um pacote python chamado `\"gibberish-detector\"` para identificar palavras sem sentido ou sem significado. Isso pode ser útil para uma variedade de aplicativos, como `detecção de spam` ou `identificação de entradas inseridas por um usuário por engano`. Percorreremos todo o processo, desde o pré-processamento dos dados até o treinamento usando este pacote. No final deste tutorial, você terá um sistema de detecção de rabiscos funcionando que poderá usar em seus próprios projetos.\n",
    "\n",
    "\n",
    "Este script está baseado no maravilhoso tutorial do [Deepak John Reji](https://www.youtube.com/watch?v=B2Txuyp9tso). Ver também o seguinte link:\n",
    "\n",
    "* [domanchi/gibberish-detector](https://github.com/domanchi/gibberish-detector)"
   ]
  },
  {
   "attachments": {},
   "cell_type": "markdown",
   "metadata": {},
   "source": [
    "## O que são palavras Gibberish?"
   ]
  },
  {
   "attachments": {},
   "cell_type": "markdown",
   "metadata": {},
   "source": [
    "`Palavras sem sentido` (Gibberish words) são palavras inventadas e sem significado. Eles são frequentemente usados como espaço reservado para texto ou para efeitos humorísticos. Palavras sem sentido podem ser semelhantes em aparência a palavras reais, mas não têm nenhum significado em nenhum idioma. Eles geralmente são usados para preencher espaço em um documento ou para testar a formatação de um documento. Palavras sem sentido também podem ser usadas na escrita criativa para transmitir uma sensação de linguagem sem sentido ou surrealista."
   ]
  },
  {
   "cell_type": "code",
   "execution_count": 1,
   "metadata": {},
   "outputs": [
    {
     "data": {
      "text/plain": [
       "'South african miners return to work at anglo american platinum mine, ending 8-week strike. Retrieved from &hl=en&gl=us&pid=bl&srcid=ADGEEShzYlE-pg-suMyOAq6mUfqdmvU2OVONMg2AeEhKa_7yxJfgz-LgV_IWSYH6prhjnhnrEKOinAf_qrB0pvGZSBmMKeF4hKSdAwTAbDGSnlPJ0Wg4Our2fHx702hvjwkg5LKD5FlN&sig= AHIEtbS1qvmQYRs3N2aE1FQMBi7G3ZZfpQ EUROPEAN Centre of Employers and Enterprises (ECEE).'"
      ]
     },
     "execution_count": 1,
     "metadata": {},
     "output_type": "execute_result"
    }
   ],
   "source": [
    "text = \"South african miners return to work at anglo american platinum mine, ending 8-week strike. Retrieved from &hl=en&gl=us&pid=bl&srcid=ADGEEShzYlE-pg-suMyOAq6mUfqdmvU2OVONMg2AeEhKa_7yxJfgz-LgV_IWSYH6prhjnhnrEKOinAf_qrB0pvGZSBmMKeF4hKSdAwTAbDGSnlPJ0Wg4Our2fHx702hvjwkg5LKD5FlN&sig= AHIEtbS1qvmQYRs3N2aE1FQMBi7G3ZZfpQ EUROPEAN Centre of Employers and Enterprises (ECEE).\"\n",
    "text\n"
   ]
  },
  {
   "cell_type": "code",
   "execution_count": 2,
   "metadata": {},
   "outputs": [],
   "source": [
    "from gibberish_detector import detector\n",
    "\n",
    "Detector = detector.create_from_model('big.model')"
   ]
  },
  {
   "cell_type": "code",
   "execution_count": 3,
   "metadata": {},
   "outputs": [
    {
     "data": {
      "text/plain": [
       "4.36903463366466"
      ]
     },
     "execution_count": 3,
     "metadata": {},
     "output_type": "execute_result"
    }
   ],
   "source": [
    "Detector.calculate_probability_of_being_gibberish(text)\n"
   ]
  },
  {
   "cell_type": "code",
   "execution_count": 4,
   "metadata": {},
   "outputs": [
    {
     "name": "stdout",
     "output_type": "stream",
     "text": [
      "True\n"
     ]
    }
   ],
   "source": [
    "print(Detector.is_gibberish(text))\n"
   ]
  },
  {
   "cell_type": "code",
   "execution_count": 5,
   "metadata": {},
   "outputs": [],
   "source": [
    "def remove_gibberish(text):\n",
    "    text_list = text.split(\" \")\n",
    "\n",
    "    processed_list = []\n",
    "    \n",
    "    for i in text_list:\n",
    "        if Detector.is_gibberish(i) == False:\n",
    "            processed_list.append(i)\n",
    "    \n",
    "    return ' '.join(processed_list)"
   ]
  },
  {
   "cell_type": "code",
   "execution_count": 6,
   "metadata": {},
   "outputs": [
    {
     "data": {
      "text/plain": [
       "'South african miners return to work at anglo american platinum mine, ending 8-week strike. Retrieved from &hl=en&gl=us&pid=bl&srcid=ADGEEShzYlE-pg-suMyOAq6mUfqdmvU2OVONMg2AeEhKa_7yxJfgz-LgV_IWSYH6prhjnhnrEKOinAf_qrB0pvGZSBmMKeF4hKSdAwTAbDGSnlPJ0Wg4Our2fHx702hvjwkg5LKD5FlN&sig= AHIEtbS1qvmQYRs3N2aE1FQMBi7G3ZZfpQ EUROPEAN Centre of Employers and Enterprises (ECEE).'"
      ]
     },
     "execution_count": 6,
     "metadata": {},
     "output_type": "execute_result"
    }
   ],
   "source": [
    "text"
   ]
  },
  {
   "cell_type": "code",
   "execution_count": 7,
   "metadata": {},
   "outputs": [
    {
     "data": {
      "text/plain": [
       "'South african miners return to work at anglo american platinum mine, ending 8-week strike. Retrieved from Centre of Employers and Enterprises'"
      ]
     },
     "execution_count": 7,
     "metadata": {},
     "output_type": "execute_result"
    }
   ],
   "source": [
    "remove_gibberish(text)\n"
   ]
  }
 ],
 "metadata": {
  "kernelspec": {
   "display_name": "venv_pytorch",
   "language": "python",
   "name": "python3"
  },
  "language_info": {
   "codemirror_mode": {
    "name": "ipython",
    "version": 3
   },
   "file_extension": ".py",
   "mimetype": "text/x-python",
   "name": "python",
   "nbconvert_exporter": "python",
   "pygments_lexer": "ipython3",
   "version": "3.8.10"
  },
  "orig_nbformat": 4,
  "vscode": {
   "interpreter": {
    "hash": "425f17e4599c96c22458fd88ee1cee303e704ae1a583987c3800b2cfec643517"
   }
  }
 },
 "nbformat": 4,
 "nbformat_minor": 2
}
