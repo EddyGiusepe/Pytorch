{
 "cells": [
  {
   "attachments": {},
   "cell_type": "markdown",
   "metadata": {},
   "source": [
    "<h1 align=\"center\">Multi-Target Predictions with Multilinear Regression in PyTorch</h1>"
   ]
  },
  {
   "attachments": {},
   "cell_type": "markdown",
   "metadata": {},
   "source": [
    "Data Scientist.: Dr.Eddy Giusepe Chirinos Isidro"
   ]
  },
  {
   "attachments": {},
   "cell_type": "markdown",
   "metadata": {},
   "source": [
    "Link de estudo:\n",
    "\n",
    "* [Machine Learning Mastery](https://machinelearningmastery.com/multi-target-predictions-with-multilinear-regression-in-pytorch/)"
   ]
  },
  {
   "attachments": {},
   "cell_type": "markdown",
   "metadata": {},
   "source": [
    "Enquanto nos tutoriais anteriores trabalhamos com regressão multilinear de saída única, aqui exploraremos como podemos usar a regressão multilinear para previsões de vários alvos (`multi-target`). As arquiteturas complexas de redes neurais estão essencialmente fazendo com que cada unidade de neurônio execute a regressão linear independentemente e, em seguida, passe seu resultado para outro neurônio. Portanto, saber como essa regressão funciona é útil para entender como uma rede neural realiza previsões multi alvos (`multi-target`).\n",
    "\n",
    "O objetivo deste script é fornecer um guia passo a passo para a implementação de previsões de várias target no `PyTorch`. Faremos isso usando a estrutura de um modelo de regressão linear que usa várias features como entrada e produz vários resultados.\n",
    "\n",
    "Começaremos importando os pacotes necessários para o nosso modelo. Em seguida, definiremos nossos pontos de dados de entrada e o que queremos alcançar com nosso modelo. Particularmente, demonstraremos:\n",
    "\n",
    "* Como entender a `Regressão Multilinear` em múltiplas dimensões.\n",
    "\n",
    "* Como fazer previsões `multi-targets` com regressão multilinear no `PyTorch`.\n",
    "\n",
    "* Como construir uma classe linear usando o `'nn.Module'` no `PyTorch`.\n",
    "\n",
    "* Como fazer previsões de várias targets (`multi-target`) com uma única amostra de dados de entrada.\n",
    "\n",
    "* Como fazer previsões de várias targets (`multi-target`) com várias amostras de dados de entrada.\n",
    "\n",
    "Observe que não vamos treinar `nosso modelo MLR` neste tutorial, veremos apenas como ele faz previsões simples. No tutorial subsequente de nossa série `PyTorch`, aprenderemos como esse modelo pode ser treinado em um conjunto de dados."
   ]
  },
  {
   "attachments": {},
   "cell_type": "markdown",
   "metadata": {},
   "source": [
    "# Criamos nosso Módulo"
   ]
  },
  {
   "attachments": {},
   "cell_type": "markdown",
   "metadata": {},
   "source": [
    "Construiremos uma classe linear personalizada para nosso modelo de `Regressão Multilinear`. Vamos definir uma classe linear e torná-la uma classe filho do pacote `PyTorch nn.Module`. Essa classe herda todos os métodos e atributos do pacote, como `nn.Linear`."
   ]
  },
  {
   "cell_type": "code",
   "execution_count": 1,
   "metadata": {},
   "outputs": [],
   "source": [
    "import torch\n",
    "torch.manual_seed(42)\n",
    "\n",
    " \n",
    "# Define the class for multilinear regression\n",
    "class MLR(torch.nn.Module):\n",
    "    def __init__(self, input_dim, output_dim):\n",
    "        super().__init__()\n",
    "        self.linear = torch.nn.Linear(input_dim, output_dim)\n",
    "    \n",
    "    def forward(self, x):\n",
    "        y_pred = self.linear(x)\n",
    "        return y_pred"
   ]
  },
  {
   "attachments": {},
   "cell_type": "markdown",
   "metadata": {},
   "source": [
    "Agora, vamos criar o objeto modelo e definir os parâmetros de acordo. Como planejamos fazer previsões de `várias targets`, vamos primeiro verificar como nosso modelo funciona para uma única amostra de entrada. Posteriormente, faremos previsões para várias amostras de entrada."
   ]
  },
  {
   "attachments": {},
   "cell_type": "markdown",
   "metadata": {},
   "source": [
    "# Fazendo previsões com amostras de entrada única"
   ]
  },
  {
   "attachments": {},
   "cell_type": "markdown",
   "metadata": {},
   "source": [
    "Criaremos nosso objeto de modelo que recebe uma `única amostra de entrada` e faz cinco previsões."
   ]
  },
  {
   "cell_type": "code",
   "execution_count": 2,
   "metadata": {},
   "outputs": [],
   "source": [
    "# Construímos o objeto de nosso Modelo\n",
    "model = MLR(1, 5)"
   ]
  },
  {
   "attachments": {},
   "cell_type": "markdown",
   "metadata": {},
   "source": [
    "Agora, vamos definir nosso tensor `x` de entrada para o modelo e fazer previsões."
   ]
  },
  {
   "cell_type": "code",
   "execution_count": 3,
   "metadata": {},
   "outputs": [
    {
     "name": "stdout",
     "output_type": "stream",
     "text": [
      "tensor([[ 1.7309,  1.1732,  0.1187,  2.7188, -1.1718]],\n",
      "       grad_fn=<AddmmBackward0>)\n"
     ]
    }
   ],
   "source": [
    "# Defina a amostra de entrada única 'x' e faça previsões\n",
    "x = torch.tensor([[2.0]])\n",
    "y_pred = model(x)\n",
    "print(y_pred)"
   ]
  },
  {
   "attachments": {},
   "cell_type": "markdown",
   "metadata": {},
   "source": [
    "Como você pode ver, nosso modelo fez várias previsões a partir de apenas uma única amostra de entrada. Aqui está como podemos listar os parâmetros do modelo."
   ]
  },
  {
   "cell_type": "code",
   "execution_count": 4,
   "metadata": {},
   "outputs": [
    {
     "name": "stdout",
     "output_type": "stream",
     "text": [
      "[Parameter containing:\n",
      "tensor([[ 0.7645],\n",
      "        [ 0.8300],\n",
      "        [-0.2343],\n",
      "        [ 0.9186],\n",
      "        [-0.2191]], requires_grad=True), Parameter containing:\n",
      "tensor([ 0.2018, -0.4869,  0.5873,  0.8815, -0.7336], requires_grad=True)]\n"
     ]
    }
   ],
   "source": [
    "print(list(model.parameters()))"
   ]
  },
  {
   "attachments": {},
   "cell_type": "markdown",
   "metadata": {},
   "source": [
    "Você pode obter um resultado diferente em números, pois esses são pesos aleatórios, mas a forma dos `tensores de peso` corresponderia ao nosso design de **receber uma entrada e fornecer cinco saídas**."
   ]
  },
  {
   "attachments": {},
   "cell_type": "markdown",
   "metadata": {},
   "source": [
    "# Fazendo previsões com várias amostras de entrada"
   ]
  },
  {
   "attachments": {},
   "cell_type": "markdown",
   "metadata": {},
   "source": [
    "Da mesma forma, vamos definir um tensor `X` para várias amostras de entrada, onde cada linha representa uma amostra de dados."
   ]
  },
  {
   "cell_type": "code",
   "execution_count": 5,
   "metadata": {},
   "outputs": [],
   "source": [
    "# Define the multiple input tensor 'x' and make predictions\n",
    "X = torch.tensor([[2.0],[4.0],[6.0]])"
   ]
  },
  {
   "attachments": {},
   "cell_type": "markdown",
   "metadata": {},
   "source": [
    "Podemos fazer previsões `multi-target` com várias amostras de entrada."
   ]
  },
  {
   "cell_type": "code",
   "execution_count": 6,
   "metadata": {},
   "outputs": [
    {
     "name": "stdout",
     "output_type": "stream",
     "text": [
      "tensor([[ 1.7309,  1.1732,  0.1187,  2.7188, -1.1718],\n",
      "        [ 3.2599,  2.8332, -0.3498,  4.5560, -1.6100],\n",
      "        [ 4.7890,  4.4932, -0.8184,  6.3932, -2.0482]],\n",
      "       grad_fn=<AddmmBackward0>)\n"
     ]
    }
   ],
   "source": [
    "Y_pred = model(X)\n",
    "print(Y_pred)"
   ]
  },
  {
   "attachments": {},
   "cell_type": "markdown",
   "metadata": {},
   "source": [
    "Juntando tudo, segue o código completo:"
   ]
  },
  {
   "cell_type": "code",
   "execution_count": 7,
   "metadata": {},
   "outputs": [
    {
     "name": "stdout",
     "output_type": "stream",
     "text": [
      "tensor([[ 1.7309,  1.1732,  0.1187,  2.7188, -1.1718]],\n",
      "       grad_fn=<AddmmBackward0>)\n",
      "[Parameter containing:\n",
      "tensor([[ 0.7645],\n",
      "        [ 0.8300],\n",
      "        [-0.2343],\n",
      "        [ 0.9186],\n",
      "        [-0.2191]], requires_grad=True), Parameter containing:\n",
      "tensor([ 0.2018, -0.4869,  0.5873,  0.8815, -0.7336], requires_grad=True)]\n",
      "tensor([[ 1.7309,  1.1732,  0.1187,  2.7188, -1.1718],\n",
      "        [ 3.2599,  2.8332, -0.3498,  4.5560, -1.6100],\n",
      "        [ 4.7890,  4.4932, -0.8184,  6.3932, -2.0482]],\n",
      "       grad_fn=<AddmmBackward0>)\n"
     ]
    }
   ],
   "source": [
    "import torch\n",
    "torch.manual_seed(42)\n",
    " \n",
    "# define the class for multilinear regression\n",
    "class MLR(torch.nn.Module):\n",
    "    def __init__(self, input_dim, output_dim):\n",
    "        super().__init__()\n",
    "        self.linear = torch.nn.Linear(input_dim, output_dim)\n",
    "    def forward(self,x):\n",
    "        y_pred = self.linear(x)\n",
    "        return y_pred\n",
    "    \n",
    "# building the model object\n",
    "model = MLR(1, 5)\n",
    " \n",
    "# define the single input sample 'x' and make predictions\n",
    "x = torch.tensor([[2.0]])\n",
    "y_pred = model(x)\n",
    "print(y_pred)\n",
    "print(list(model.parameters()))\n",
    " \n",
    "# define the multiple input tensor 'x' and make predictions\n",
    "X = torch.tensor([[2.0],[4.0],[6.0]])\n",
    "Y_pred = model(X)\n",
    "print(Y_pred)"
   ]
  },
  {
   "cell_type": "code",
   "execution_count": null,
   "metadata": {},
   "outputs": [],
   "source": []
  }
 ],
 "metadata": {
  "kernelspec": {
   "display_name": "venv_pytorch",
   "language": "python",
   "name": "python3"
  },
  "language_info": {
   "codemirror_mode": {
    "name": "ipython",
    "version": 3
   },
   "file_extension": ".py",
   "mimetype": "text/x-python",
   "name": "python",
   "nbconvert_exporter": "python",
   "pygments_lexer": "ipython3",
   "version": "3.8.10"
  },
  "orig_nbformat": 4,
  "vscode": {
   "interpreter": {
    "hash": "425f17e4599c96c22458fd88ee1cee303e704ae1a583987c3800b2cfec643517"
   }
  }
 },
 "nbformat": 4,
 "nbformat_minor": 2
}
