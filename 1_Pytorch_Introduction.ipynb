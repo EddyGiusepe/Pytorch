{
  "nbformat": 4,
  "nbformat_minor": 0,
  "metadata": {
    "colab": {
      "name": "1_Pytorch_Introduction.ipynb",
      "provenance": [],
      "collapsed_sections": [],
      "authorship_tag": "ABX9TyP1s4CSh+jR1fcdYxcQkaDP",
      "include_colab_link": true
    },
    "kernelspec": {
      "name": "python3",
      "display_name": "Python 3"
    },
    "language_info": {
      "name": "python"
    }
  },
  "cells": [
    {
      "cell_type": "markdown",
      "metadata": {
        "id": "view-in-github",
        "colab_type": "text"
      },
      "source": [
        "<a href=\"https://colab.research.google.com/github/EddyGiusepe/Pytorch/blob/main/1_Pytorch_Introduction.ipynb\" target=\"_parent\"><img src=\"https://colab.research.google.com/assets/colab-badge.svg\" alt=\"Open In Colab\"/></a>"
      ]
    },
    {
      "cell_type": "markdown",
      "source": [
        "<h2 align=\"center\">Pytorch: Introdução</h2>\n",
        "\n",
        "Data Scientist: Dr.Eddy Giusepe Chirinos Isidro"
      ],
      "metadata": {
        "id": "699R8fsZnXaC"
      }
    },
    {
      "cell_type": "markdown",
      "source": [
        "Em scripts anteriores estudamos os elementos fundamentais das REDES NEURAIS: o `Perceptron`, o algoritmo de `descenso por gradiente`, o `Perceptron Multicapa (MLP)`, etc. Agora, neste script estudaremos e aprenderemos a trabalhar com um dos Frameworks de Redes Neurais mais utilizados hoje em dia: [Pytorch](https://pytorch.org/). \n",
        "\n"
      ],
      "metadata": {
        "id": "nXuuvwgqnq1e"
      }
    },
    {
      "cell_type": "markdown",
      "source": [
        "![](https://tempodeinovacao.com.br/wp-content/uploads/2020/08/1_t6hCM90evdnlPw4l9VK3AQ.png)"
      ],
      "metadata": {
        "id": "jvuCBiyTp7Xy"
      }
    },
    {
      "cell_type": "code",
      "execution_count": 1,
      "metadata": {
        "id": "79kZe4cDm9LF"
      },
      "outputs": [],
      "source": [
        "import torch"
      ]
    },
    {
      "cell_type": "markdown",
      "source": [
        "# O que é Pytorch?\n",
        "\n"
      ],
      "metadata": {
        "id": "tD4xWla_qtBg"
      }
    },
    {
      "cell_type": "markdown",
      "source": [
        "`Pytorch` é um Framework de Redes Neurais, um conjunto de bibliotecas e ferramentas que nos farão a vida mais fácil à hora de desenhar, treinar e colocar em produção nossos modelos de Deep Learning. Uma forma simples de entender o que é Pytorch é da seguinte maneira:\n",
        "\n",
        "$$ Pytorch = Numpy + Autograd + GPU $$\n",
        "\n",
        "Vamos ver que significa cada um destes termos:"
      ],
      "metadata": {
        "id": "--Mxj5AFtCFR"
      }
    },
    {
      "cell_type": "markdown",
      "source": [
        "# NumPy"
      ],
      "metadata": {
        "id": "r7vwPQf5s8Gh"
      }
    },
    {
      "cell_type": "markdown",
      "source": [
        "Talvez a característica mais relevante de `Pytorch` é a sua facilidade de uso. Isto é devido porque segue uma interface muito similar à de `NumPy`. Então, como já sabemos trabalhar com esta biblioteca não teremos muitos problemas de aprender a trabalhar com Pytorch.\n",
        "\n",
        "\n",
        "Da mesma maneira que em `NumPy` o objeto principal é o `ndarray`, em `Pytorch` o objeto principal é o `Tensor`. Podemos definir um Tensor de maneira similar a como a como definimos um array, incluso podemos inicializar Tensores a partir de arrays."
      ],
      "metadata": {
        "id": "sI2AUkDgtDi3"
      }
    },
    {
      "cell_type": "code",
      "source": [
        "# matriz de ceros, 5 filas y 3 columnas\n",
        "# 2D\n",
        "x = torch.zeros(5, 3)\n",
        "x"
      ],
      "metadata": {
        "colab": {
          "base_uri": "https://localhost:8080/"
        },
        "id": "BLPwmQb5qphM",
        "outputId": "63d14099-bfea-463a-855b-3a17ca91a6d8"
      },
      "execution_count": 2,
      "outputs": [
        {
          "output_type": "execute_result",
          "data": {
            "text/plain": [
              "tensor([[0., 0., 0.],\n",
              "        [0., 0., 0.],\n",
              "        [0., 0., 0.],\n",
              "        [0., 0., 0.],\n",
              "        [0., 0., 0.]])"
            ]
          },
          "metadata": {},
          "execution_count": 2
        }
      ]
    },
    {
      "cell_type": "code",
      "source": [
        "# tensor con valores aleatorios\n",
        "# Tensor tri-Dimensional\n",
        "x = torch.randn(5, 3, 2) # Teriamos 5 matrizes de 3 filas e 2 colunas \n",
        "x"
      ],
      "metadata": {
        "colab": {
          "base_uri": "https://localhost:8080/"
        },
        "id": "pTsRI7lPvsVI",
        "outputId": "cc4c016e-bd23-4f83-af3e-b4aedc6c9f28"
      },
      "execution_count": 5,
      "outputs": [
        {
          "output_type": "execute_result",
          "data": {
            "text/plain": [
              "tensor([[[ 0.2193,  1.3796],\n",
              "         [ 1.1913,  0.2060],\n",
              "         [-1.2729, -0.6872]],\n",
              "\n",
              "        [[ 0.8077, -0.0191],\n",
              "         [-0.3017, -0.6460],\n",
              "         [ 0.3773, -1.0822]],\n",
              "\n",
              "        [[-0.7123,  0.1289],\n",
              "         [ 0.1715,  0.3432],\n",
              "         [-1.0675,  0.6113]],\n",
              "\n",
              "        [[ 0.0410,  1.3531],\n",
              "         [ 0.6538,  0.0632],\n",
              "         [ 0.3122,  0.6018]],\n",
              "\n",
              "        [[-0.4985,  0.9556],\n",
              "         [ 0.9557,  0.2680],\n",
              "         [ 1.9618, -0.0818]]])"
            ]
          },
          "metadata": {},
          "execution_count": 5
        }
      ]
    },
    {
      "cell_type": "code",
      "source": [
        "# Tensor a partir de lista \n",
        "\n",
        "x_lista = [[1, 2, 3],[4, 5, 6]]\n",
        "x_lista, type(x_lista)\n",
        "\n"
      ],
      "metadata": {
        "colab": {
          "base_uri": "https://localhost:8080/"
        },
        "id": "tLdtl6aMvyJ1",
        "outputId": "9eb110f3-36cf-4e7b-af13-cd0e84184bc7"
      },
      "execution_count": 12,
      "outputs": [
        {
          "output_type": "execute_result",
          "data": {
            "text/plain": [
              "([[1, 2, 3], [4, 5, 6]], list)"
            ]
          },
          "metadata": {},
          "execution_count": 12
        }
      ]
    },
    {
      "cell_type": "code",
      "source": [
        "x_tensor = torch.tensor([[1, 2, 3],[4, 5, 6]])\n",
        "x_tensor, type(x_tensor)"
      ],
      "metadata": {
        "colab": {
          "base_uri": "https://localhost:8080/"
        },
        "id": "pA_yoJKQw6zG",
        "outputId": "c3287024-70a9-4c14-dcd5-d4678120aefc"
      },
      "execution_count": 13,
      "outputs": [
        {
          "output_type": "execute_result",
          "data": {
            "text/plain": [
              "(tensor([[1, 2, 3],\n",
              "         [4, 5, 6]]), torch.Tensor)"
            ]
          },
          "metadata": {},
          "execution_count": 13
        }
      ]
    },
    {
      "cell_type": "code",
      "source": [
        "import numpy as np\n",
        "\n",
        "# tensor a partir de array\n",
        "\n",
        "a = np.array([[1, 2, 3],[4, 5, 6]])\n",
        "a, type(a)"
      ],
      "metadata": {
        "colab": {
          "base_uri": "https://localhost:8080/"
        },
        "id": "gr6ygA5kxkcA",
        "outputId": "5ca26312-b5c3-4f64-ed5c-0943de5fb99f"
      },
      "execution_count": 15,
      "outputs": [
        {
          "output_type": "execute_result",
          "data": {
            "text/plain": [
              "(array([[1, 2, 3],\n",
              "        [4, 5, 6]]), numpy.ndarray)"
            ]
          },
          "metadata": {},
          "execution_count": 15
        }
      ]
    },
    {
      "cell_type": "code",
      "source": [
        "x = torch.from_numpy(a)\n",
        "x, type(x)"
      ],
      "metadata": {
        "colab": {
          "base_uri": "https://localhost:8080/"
        },
        "id": "nibTX9Qix4BE",
        "outputId": "93157f5d-f1c7-45f9-ae9c-5bfee16821eb"
      },
      "execution_count": 18,
      "outputs": [
        {
          "output_type": "execute_result",
          "data": {
            "text/plain": [
              "(tensor([[1, 2, 3],\n",
              "         [4, 5, 6]]), torch.Tensor)"
            ]
          },
          "metadata": {},
          "execution_count": 18
        }
      ]
    },
    {
      "cell_type": "markdown",
      "source": [
        "Podemos observar que praticamente todos os conceitos que já conhecemos de NumPy podem ser aplicados em Pytorch. Isto inclui operações `aritméticas`, `indexado` e `fatiado`, `iteração`, `vetorização` e [broadcating](https://machinelearningmastery.com/broadcasting-with-numpy-arrays/#:~:text=Broadcasting%20solves%20the%20problem%20of,different%20shapes%20during%20arithmetic%20operations.)."
      ],
      "metadata": {
        "id": "HNw50x7h0HJ-"
      }
    },
    {
      "cell_type": "code",
      "source": [
        ""
      ],
      "metadata": {
        "id": "BOuHhd47yIWn"
      },
      "execution_count": null,
      "outputs": []
    }
  ]
}