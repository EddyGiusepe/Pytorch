{
  "nbformat": 4,
  "nbformat_minor": 0,
  "metadata": {
    "colab": {
      "name": "1_Pytorch_Introduction.ipynb",
      "provenance": [],
      "collapsed_sections": [],
      "authorship_tag": "ABX9TyNko+FSn5l7UzjeK56dYPT6",
      "include_colab_link": true
    },
    "kernelspec": {
      "name": "python3",
      "display_name": "Python 3"
    },
    "language_info": {
      "name": "python"
    }
  },
  "cells": [
    {
      "cell_type": "markdown",
      "metadata": {
        "id": "view-in-github",
        "colab_type": "text"
      },
      "source": [
        "<a href=\"https://colab.research.google.com/github/EddyGiusepe/Pytorch/blob/main/1_Pytorch_Introduction.ipynb\" target=\"_parent\"><img src=\"https://colab.research.google.com/assets/colab-badge.svg\" alt=\"Open In Colab\"/></a>"
      ]
    },
    {
      "cell_type": "markdown",
      "source": [
        "<h2 align=\"center\">Pytorch: Introdução</h2>\n",
        "\n",
        "Data Scientist: Dr.Eddy Giusepe Chirinos Isidro"
      ],
      "metadata": {
        "id": "699R8fsZnXaC"
      }
    },
    {
      "cell_type": "markdown",
      "source": [
        "Em scripts anteriores estudamos os elementos fundamentais das REDES NEURAIS: o `Perceptron`, o algoritmo de `descenso por gradiente`, o `Perceptron Multicapa (MLP)`, etc. Agora, neste script estudaremos e aprenderemos a trabalhar com um dos Frameworks de Redes Neurais mais utilizados hoje em dia: [Pytorch](https://pytorch.org/). \n",
        "\n"
      ],
      "metadata": {
        "id": "nXuuvwgqnq1e"
      }
    },
    {
      "cell_type": "markdown",
      "source": [
        "![](https://tempodeinovacao.com.br/wp-content/uploads/2020/08/1_t6hCM90evdnlPw4l9VK3AQ.png)"
      ],
      "metadata": {
        "id": "jvuCBiyTp7Xy"
      }
    },
    {
      "cell_type": "code",
      "execution_count": 1,
      "metadata": {
        "id": "79kZe4cDm9LF"
      },
      "outputs": [],
      "source": [
        "import torch"
      ]
    },
    {
      "cell_type": "markdown",
      "source": [
        "# O que é Pytorch?\n",
        "\n"
      ],
      "metadata": {
        "id": "tD4xWla_qtBg"
      }
    },
    {
      "cell_type": "markdown",
      "source": [
        "`Pytorch` é um Framework de Redes Neurais, um conjunto de bibliotecas e ferramentas que nos farão a vida mais fácil à hora de desenhar, treinar e colocar em produção nossos modelos de Deep Learning. Uma forma simples de entender o que é Pytorch é da seguinte maneira:\n",
        "\n",
        "$$ Pytorch = Numpy + Autograd + GPU $$\n",
        "\n",
        "Vamos ver que significa cada um destes termos:"
      ],
      "metadata": {
        "id": "--Mxj5AFtCFR"
      }
    },
    {
      "cell_type": "markdown",
      "source": [
        "# NumPy"
      ],
      "metadata": {
        "id": "r7vwPQf5s8Gh"
      }
    },
    {
      "cell_type": "markdown",
      "source": [
        "Talvez a característica mais relevante de `Pytorch` é a sua facilidade de uso. Isto é devido porque segue uma interface muito similar à de `NumPy`. Então, como já sabemos trabalhar com esta biblioteca não teremos muitos problemas de aprender a trabalhar com Pytorch.\n",
        "\n",
        "\n",
        "Da mesma maneira que em `NumPy` o objeto principal é o `ndarray`, em `Pytorch` o objeto principal é o `Tensor`. Podemos definir um Tensor de maneira similar a como a como definimos um array, incluso podemos inicializar Tensores a partir de arrays."
      ],
      "metadata": {
        "id": "sI2AUkDgtDi3"
      }
    },
    {
      "cell_type": "code",
      "source": [
        "# matriz de ceros, 5 filas y 3 columnas\n",
        "# 2D\n",
        "x = torch.zeros(5, 3)\n",
        "x"
      ],
      "metadata": {
        "colab": {
          "base_uri": "https://localhost:8080/"
        },
        "id": "BLPwmQb5qphM",
        "outputId": "55255f28-ae07-4a81-e3a2-f2948035e295"
      },
      "execution_count": 2,
      "outputs": [
        {
          "output_type": "execute_result",
          "data": {
            "text/plain": [
              "tensor([[0., 0., 0.],\n",
              "        [0., 0., 0.],\n",
              "        [0., 0., 0.],\n",
              "        [0., 0., 0.],\n",
              "        [0., 0., 0.]])"
            ]
          },
          "metadata": {},
          "execution_count": 2
        }
      ]
    },
    {
      "cell_type": "code",
      "source": [
        "# tensor con valores aleatorios\n",
        "# Tensor tri-Dimensional\n",
        "x = torch.randn(5, 3, 2) # Teriamos 5 matrizes de 3 filas e 2 colunas \n",
        "x"
      ],
      "metadata": {
        "colab": {
          "base_uri": "https://localhost:8080/"
        },
        "id": "pTsRI7lPvsVI",
        "outputId": "ddb6a983-aec3-4e72-800c-0cf3e8c63df9"
      },
      "execution_count": 3,
      "outputs": [
        {
          "output_type": "execute_result",
          "data": {
            "text/plain": [
              "tensor([[[-0.6597,  0.2248],\n",
              "         [ 1.0796,  0.9027],\n",
              "         [ 0.3682, -0.4360]],\n",
              "\n",
              "        [[ 0.0092, -1.3949],\n",
              "         [ 0.9494,  1.3405],\n",
              "         [-0.8748,  1.5451]],\n",
              "\n",
              "        [[-1.4121, -0.9932],\n",
              "         [ 0.0373, -2.0330],\n",
              "         [ 0.2383,  0.2961]],\n",
              "\n",
              "        [[ 0.2557, -1.8095],\n",
              "         [-0.1636,  1.2320],\n",
              "         [-0.2165,  0.1569]],\n",
              "\n",
              "        [[-1.0532,  0.4663],\n",
              "         [ 0.0642,  1.5731],\n",
              "         [-1.9476, -0.6653]]])"
            ]
          },
          "metadata": {},
          "execution_count": 3
        }
      ]
    },
    {
      "cell_type": "code",
      "source": [
        "# Tensor a partir de lista \n",
        "\n",
        "x_lista = [[1, 2, 3],[4, 5, 6]]\n",
        "x_lista, type(x_lista)\n",
        "\n"
      ],
      "metadata": {
        "colab": {
          "base_uri": "https://localhost:8080/"
        },
        "id": "tLdtl6aMvyJ1",
        "outputId": "94c9b0ea-6942-4d5a-de95-d6cc9efbedd1"
      },
      "execution_count": 4,
      "outputs": [
        {
          "output_type": "execute_result",
          "data": {
            "text/plain": [
              "([[1, 2, 3], [4, 5, 6]], list)"
            ]
          },
          "metadata": {},
          "execution_count": 4
        }
      ]
    },
    {
      "cell_type": "code",
      "source": [
        "x_tensor = torch.tensor([[1, 2, 3],[4, 5, 6]])\n",
        "x_tensor, type(x_tensor)"
      ],
      "metadata": {
        "colab": {
          "base_uri": "https://localhost:8080/"
        },
        "id": "pA_yoJKQw6zG",
        "outputId": "e62eb235-d147-436d-9be7-aafa2b7c1b44"
      },
      "execution_count": 5,
      "outputs": [
        {
          "output_type": "execute_result",
          "data": {
            "text/plain": [
              "(tensor([[1, 2, 3],\n",
              "         [4, 5, 6]]), torch.Tensor)"
            ]
          },
          "metadata": {},
          "execution_count": 5
        }
      ]
    },
    {
      "cell_type": "code",
      "source": [
        "import numpy as np\n",
        "\n",
        "# tensor a partir de array\n",
        "\n",
        "a = np.array([[1, 2, 3],[4, 5, 6]])\n",
        "a, type(a)"
      ],
      "metadata": {
        "colab": {
          "base_uri": "https://localhost:8080/"
        },
        "id": "gr6ygA5kxkcA",
        "outputId": "9959055e-d663-49ed-a632-be82690eaf52"
      },
      "execution_count": 6,
      "outputs": [
        {
          "output_type": "execute_result",
          "data": {
            "text/plain": [
              "(array([[1, 2, 3],\n",
              "        [4, 5, 6]]), numpy.ndarray)"
            ]
          },
          "metadata": {},
          "execution_count": 6
        }
      ]
    },
    {
      "cell_type": "code",
      "source": [
        "x = torch.from_numpy(a)\n",
        "x, type(x)"
      ],
      "metadata": {
        "colab": {
          "base_uri": "https://localhost:8080/"
        },
        "id": "nibTX9Qix4BE",
        "outputId": "28fb639b-a863-441a-c246-99eda1934d27"
      },
      "execution_count": 7,
      "outputs": [
        {
          "output_type": "execute_result",
          "data": {
            "text/plain": [
              "(tensor([[1, 2, 3],\n",
              "         [4, 5, 6]]), torch.Tensor)"
            ]
          },
          "metadata": {},
          "execution_count": 7
        }
      ]
    },
    {
      "cell_type": "markdown",
      "source": [
        "Podemos observar que praticamente todos os conceitos que já conhecemos de NumPy podem ser aplicados em Pytorch. Isto inclui operações `aritméticas`, `indexado` e `fatiado`, `iteração`, `vetorização` e [broadcating](https://machinelearningmastery.com/broadcasting-with-numpy-arrays/#:~:text=Broadcasting%20solves%20the%20problem%20of,different%20shapes%20during%20arithmetic%20operations.)."
      ],
      "metadata": {
        "id": "HNw50x7h0HJ-"
      }
    },
    {
      "cell_type": "code",
      "source": [
        "# Operações\n",
        "\n",
        "x = torch.randn(3, 3)\n",
        "y = torch.randn(3, 3)\n",
        "\n",
        "print(x)\n",
        "print(\"\")\n",
        "print(y)"
      ],
      "metadata": {
        "id": "BOuHhd47yIWn",
        "colab": {
          "base_uri": "https://localhost:8080/"
        },
        "outputId": "960ba49a-0585-4e30-b077-23476840868b"
      },
      "execution_count": 8,
      "outputs": [
        {
          "output_type": "stream",
          "name": "stdout",
          "text": [
            "tensor([[-0.7162, -0.3992,  1.2655],\n",
            "        [-1.4169,  0.2327,  1.2249],\n",
            "        [-1.2644, -0.1551,  0.0178]])\n",
            "\n",
            "tensor([[ 0.1310,  0.9698, -0.4284],\n",
            "        [ 0.7934, -0.1438, -0.8942],\n",
            "        [-1.3389, -0.1942,  0.6170]])\n"
          ]
        }
      ]
    },
    {
      "cell_type": "code",
      "source": [
        "x + y"
      ],
      "metadata": {
        "colab": {
          "base_uri": "https://localhost:8080/"
        },
        "id": "NF2M9NrjqEpX",
        "outputId": "2797d737-0089-4c91-ada7-ef1e3858ccd6"
      },
      "execution_count": 9,
      "outputs": [
        {
          "output_type": "execute_result",
          "data": {
            "text/plain": [
              "tensor([[-0.5852,  0.5706,  0.8370],\n",
              "        [-0.6235,  0.0889,  0.3307],\n",
              "        [-2.6033, -0.3493,  0.6348]])"
            ]
          },
          "metadata": {},
          "execution_count": 9
        }
      ]
    },
    {
      "cell_type": "code",
      "source": [
        "# Outro exemplo \n",
        "x_tensor = torch.tensor([[1, 2, 3],[4, 5, 6], [0, -1, -2]])\n",
        "print(x_tensor)\n",
        "print(\"\")\n",
        "y_tensor = torch.tensor([[-1, -2, -3],[4, 5, 6], [0, -1, -2]])\n",
        "print(y_tensor)\n",
        "print(\"\")\n",
        "x_tensor + y_tensor"
      ],
      "metadata": {
        "colab": {
          "base_uri": "https://localhost:8080/"
        },
        "id": "_Xql5vgDqs-8",
        "outputId": "327c646a-1c9f-415a-f6ef-2cbd1148ba06"
      },
      "execution_count": 10,
      "outputs": [
        {
          "output_type": "stream",
          "name": "stdout",
          "text": [
            "tensor([[ 1,  2,  3],\n",
            "        [ 4,  5,  6],\n",
            "        [ 0, -1, -2]])\n",
            "\n",
            "tensor([[-1, -2, -3],\n",
            "        [ 4,  5,  6],\n",
            "        [ 0, -1, -2]])\n",
            "\n"
          ]
        },
        {
          "output_type": "execute_result",
          "data": {
            "text/plain": [
              "tensor([[ 0,  0,  0],\n",
              "        [ 8, 10, 12],\n",
              "        [ 0, -2, -4]])"
            ]
          },
          "metadata": {},
          "execution_count": 10
        }
      ]
    },
    {
      "cell_type": "code",
      "source": [
        "# indexado\n",
        "\n",
        "# primera fila\n",
        "\n",
        "x[0]"
      ],
      "metadata": {
        "colab": {
          "base_uri": "https://localhost:8080/"
        },
        "id": "Kk0hz1Kqr4BC",
        "outputId": "27a498eb-ff04-4b4a-eaed-c66bac8bd0e9"
      },
      "execution_count": 11,
      "outputs": [
        {
          "output_type": "execute_result",
          "data": {
            "text/plain": [
              "tensor([-0.7162, -0.3992,  1.2655])"
            ]
          },
          "metadata": {},
          "execution_count": 11
        }
      ]
    },
    {
      "cell_type": "code",
      "source": [
        "x_tensor[0]"
      ],
      "metadata": {
        "colab": {
          "base_uri": "https://localhost:8080/"
        },
        "id": "DLlHBhaHsGFN",
        "outputId": "2296459c-3c35-4278-a341-43d339e81104"
      },
      "execution_count": 12,
      "outputs": [
        {
          "output_type": "execute_result",
          "data": {
            "text/plain": [
              "tensor([1, 2, 3])"
            ]
          },
          "metadata": {},
          "execution_count": 12
        }
      ]
    },
    {
      "cell_type": "code",
      "source": [
        "# primera fila, primera columna\n",
        "\n",
        "x[0, 0]"
      ],
      "metadata": {
        "colab": {
          "base_uri": "https://localhost:8080/"
        },
        "id": "8wMJEXB3sPys",
        "outputId": "e9ded0d7-c8ab-44d1-e36f-78be13d35ccc"
      },
      "execution_count": 13,
      "outputs": [
        {
          "output_type": "execute_result",
          "data": {
            "text/plain": [
              "tensor(-0.7162)"
            ]
          },
          "metadata": {},
          "execution_count": 13
        }
      ]
    },
    {
      "cell_type": "code",
      "source": [
        "x_tensor[0, 0]"
      ],
      "metadata": {
        "colab": {
          "base_uri": "https://localhost:8080/"
        },
        "id": "zYZX5zY9sX82",
        "outputId": "46df7e04-07f7-413b-8889-b9d08e85556d"
      },
      "execution_count": 14,
      "outputs": [
        {
          "output_type": "execute_result",
          "data": {
            "text/plain": [
              "tensor(1)"
            ]
          },
          "metadata": {},
          "execution_count": 14
        }
      ]
    },
    {
      "cell_type": "code",
      "source": [
        "# Primeira linha\n",
        "\n",
        "x[0, :]"
      ],
      "metadata": {
        "colab": {
          "base_uri": "https://localhost:8080/"
        },
        "id": "YyKqJJ0VscI6",
        "outputId": "212e94bc-0b4c-4150-c305-9cb751121cd9"
      },
      "execution_count": 15,
      "outputs": [
        {
          "output_type": "execute_result",
          "data": {
            "text/plain": [
              "tensor([-0.7162, -0.3992,  1.2655])"
            ]
          },
          "metadata": {},
          "execution_count": 15
        }
      ]
    },
    {
      "cell_type": "code",
      "source": [
        "x_tensor[0, :]"
      ],
      "metadata": {
        "colab": {
          "base_uri": "https://localhost:8080/"
        },
        "id": "5hiIq2Sxsim5",
        "outputId": "d812b708-b583-48cd-842a-696bf324ccb4"
      },
      "execution_count": 16,
      "outputs": [
        {
          "output_type": "execute_result",
          "data": {
            "text/plain": [
              "tensor([1, 2, 3])"
            ]
          },
          "metadata": {},
          "execution_count": 16
        }
      ]
    },
    {
      "cell_type": "code",
      "source": [
        "# Primera coluna\n",
        "\n",
        "x_tensor[:, 0]"
      ],
      "metadata": {
        "colab": {
          "base_uri": "https://localhost:8080/"
        },
        "id": "k6jg3BMXsljD",
        "outputId": "90c477b6-6fca-4c10-9da2-02c77fa3205d"
      },
      "execution_count": 17,
      "outputs": [
        {
          "output_type": "execute_result",
          "data": {
            "text/plain": [
              "tensor([1, 4, 0])"
            ]
          },
          "metadata": {},
          "execution_count": 17
        }
      ]
    },
    {
      "cell_type": "markdown",
      "source": [
        "<font color=\"orange\">Fatiado</font>"
      ],
      "metadata": {
        "id": "n2-sDZUmxUeq"
      }
    },
    {
      "cell_type": "code",
      "source": [
        "# Fatiado\n",
        "\n",
        "x[:-1, 1:]"
      ],
      "metadata": {
        "colab": {
          "base_uri": "https://localhost:8080/"
        },
        "id": "4nA40qqqtUsX",
        "outputId": "23f20992-ecbd-4882-fb0b-58c00582de5a"
      },
      "execution_count": 18,
      "outputs": [
        {
          "output_type": "execute_result",
          "data": {
            "text/plain": [
              "tensor([[-0.3992,  1.2655],\n",
              "        [ 0.2327,  1.2249]])"
            ]
          },
          "metadata": {},
          "execution_count": 18
        }
      ]
    },
    {
      "cell_type": "code",
      "source": [
        "x_tensor[: -1, 1:]"
      ],
      "metadata": {
        "colab": {
          "base_uri": "https://localhost:8080/"
        },
        "id": "zJdfsDs6tt3A",
        "outputId": "9605955c-8db2-4f82-830a-105adede8651"
      },
      "execution_count": 19,
      "outputs": [
        {
          "output_type": "execute_result",
          "data": {
            "text/plain": [
              "tensor([[2, 3],\n",
              "        [5, 6]])"
            ]
          },
          "metadata": {},
          "execution_count": 19
        }
      ]
    },
    {
      "cell_type": "code",
      "source": [
        "x_tensor[:2, :2]"
      ],
      "metadata": {
        "colab": {
          "base_uri": "https://localhost:8080/"
        },
        "id": "07h6lAOpt0tC",
        "outputId": "5160d04d-6468-4e60-f161-d522f92d623e"
      },
      "execution_count": 20,
      "outputs": [
        {
          "output_type": "execute_result",
          "data": {
            "text/plain": [
              "tensor([[1, 2],\n",
              "        [4, 5]])"
            ]
          },
          "metadata": {},
          "execution_count": 20
        }
      ]
    },
    {
      "cell_type": "code",
      "source": [
        "x_tensor[1:3, 1:3]"
      ],
      "metadata": {
        "colab": {
          "base_uri": "https://localhost:8080/"
        },
        "id": "iN9UMD6Bu2ql",
        "outputId": "b3e61201-0411-4c92-a67c-de0bbc7948b3"
      },
      "execution_count": 21,
      "outputs": [
        {
          "output_type": "execute_result",
          "data": {
            "text/plain": [
              "tensor([[ 5,  6],\n",
              "        [-1, -2]])"
            ]
          },
          "metadata": {},
          "execution_count": 21
        }
      ]
    },
    {
      "cell_type": "code",
      "source": [
        "x_tensor[1:3, 1:3]"
      ],
      "metadata": {
        "colab": {
          "base_uri": "https://localhost:8080/"
        },
        "id": "KCNrT2xWvPV0",
        "outputId": "c26d4756-9b57-49e4-8fc5-0a24a8d31dca"
      },
      "execution_count": 22,
      "outputs": [
        {
          "output_type": "execute_result",
          "data": {
            "text/plain": [
              "tensor([[ 5,  6],\n",
              "        [-1, -2]])"
            ]
          },
          "metadata": {},
          "execution_count": 22
        }
      ]
    },
    {
      "cell_type": "markdown",
      "source": [
        "<font color=\"orange\">Uma funcionalidade importante do objeto `Tensor` que usaremos muito é mudar a sua forma. Isto é possível com a função `view`.</font>"
      ],
      "metadata": {
        "id": "vaLtngmBxOcG"
      }
    },
    {
      "cell_type": "code",
      "source": [
        "x_tensor.shape"
      ],
      "metadata": {
        "colab": {
          "base_uri": "https://localhost:8080/"
        },
        "id": "f1Zz-W-8wi7D",
        "outputId": "acf80901-868c-4438-d358-c9e35cb09f09"
      },
      "execution_count": 23,
      "outputs": [
        {
          "output_type": "execute_result",
          "data": {
            "text/plain": [
              "torch.Size([3, 3])"
            ]
          },
          "metadata": {},
          "execution_count": 23
        }
      ]
    },
    {
      "cell_type": "code",
      "source": [
        "# 2D\n",
        "x_tensor "
      ],
      "metadata": {
        "colab": {
          "base_uri": "https://localhost:8080/"
        },
        "id": "KhANht7M7qiA",
        "outputId": "20166dfa-7327-49e3-fe25-1a5bd5e2b8ed"
      },
      "execution_count": 29,
      "outputs": [
        {
          "output_type": "execute_result",
          "data": {
            "text/plain": [
              "tensor([[ 1,  2,  3],\n",
              "        [ 4,  5,  6],\n",
              "        [ 0, -1, -2]])"
            ]
          },
          "metadata": {},
          "execution_count": 29
        }
      ]
    },
    {
      "cell_type": "code",
      "source": [
        "# Adicionamos uma dimensão extra\n",
        "# Agora de 3D\n",
        "x_tensor.view(1, 3, 3)"
      ],
      "metadata": {
        "colab": {
          "base_uri": "https://localhost:8080/"
        },
        "id": "509VY-9ryDth",
        "outputId": "8f329410-9922-4c16-f027-2b1f4efd5a3b"
      },
      "execution_count": 30,
      "outputs": [
        {
          "output_type": "execute_result",
          "data": {
            "text/plain": [
              "tensor([[[ 1,  2,  3],\n",
              "         [ 4,  5,  6],\n",
              "         [ 0, -1, -2]]])"
            ]
          },
          "metadata": {},
          "execution_count": 30
        }
      ]
    },
    {
      "cell_type": "code",
      "source": [
        "x_tensor.view(1, 3, 3).shape # 3D"
      ],
      "metadata": {
        "colab": {
          "base_uri": "https://localhost:8080/"
        },
        "id": "FbNF3kzNyWGP",
        "outputId": "5add02a7-014d-40f0-ff58-3de123abb8fa"
      },
      "execution_count": 32,
      "outputs": [
        {
          "output_type": "execute_result",
          "data": {
            "text/plain": [
              "torch.Size([1, 3, 3])"
            ]
          },
          "metadata": {},
          "execution_count": 32
        }
      ]
    },
    {
      "cell_type": "code",
      "source": [
        "# Esticamos em apenas uma Dimensão\n",
        "# Nota que os elementos estão ai \n",
        "x_tensor.view(9) # 1D"
      ],
      "metadata": {
        "colab": {
          "base_uri": "https://localhost:8080/"
        },
        "id": "Ha-xMx9dyoyG",
        "outputId": "a51d7927-f99c-4ded-e021-6c1eedca45e6"
      },
      "execution_count": 33,
      "outputs": [
        {
          "output_type": "execute_result",
          "data": {
            "text/plain": [
              "tensor([ 1,  2,  3,  4,  5,  6,  0, -1, -2])"
            ]
          },
          "metadata": {},
          "execution_count": 33
        }
      ]
    },
    {
      "cell_type": "code",
      "source": [
        "x_tensor.view(9).shape"
      ],
      "metadata": {
        "colab": {
          "base_uri": "https://localhost:8080/"
        },
        "id": "vuKiKYTDzTHD",
        "outputId": "37c12497-1446-47a3-9699-11ed381dea19"
      },
      "execution_count": 34,
      "outputs": [
        {
          "output_type": "execute_result",
          "data": {
            "text/plain": [
              "torch.Size([9])"
            ]
          },
          "metadata": {},
          "execution_count": 34
        }
      ]
    },
    {
      "cell_type": "code",
      "source": [
        "# Usamos -1 para fornecer todos os valores restantes a uma dimensão\n",
        "\n",
        "x_tensor.view(-1)"
      ],
      "metadata": {
        "id": "sR460CYOzf1p",
        "colab": {
          "base_uri": "https://localhost:8080/"
        },
        "outputId": "62b53880-ed0f-4141-ec14-a1f9ec780cec"
      },
      "execution_count": 35,
      "outputs": [
        {
          "output_type": "execute_result",
          "data": {
            "text/plain": [
              "tensor([ 1,  2,  3,  4,  5,  6,  0, -1, -2])"
            ]
          },
          "metadata": {},
          "execution_count": 35
        }
      ]
    },
    {
      "cell_type": "code",
      "source": [
        "x_tensor.view(-1).shape"
      ],
      "metadata": {
        "colab": {
          "base_uri": "https://localhost:8080/"
        },
        "id": "9nuqnNpU87W_",
        "outputId": "f99bf8db-fcad-478c-b468-3d2b15d62ea0"
      },
      "execution_count": 36,
      "outputs": [
        {
          "output_type": "execute_result",
          "data": {
            "text/plain": [
              "torch.Size([9])"
            ]
          },
          "metadata": {},
          "execution_count": 36
        }
      ]
    },
    {
      "cell_type": "markdown",
      "source": [
        "<font color=\"orange\">Podemos transformar um `Tensor` em um array com a função `NumPy`.</font>"
      ],
      "metadata": {
        "id": "pOrkn-1q9M2p"
      }
    },
    {
      "cell_type": "code",
      "source": [
        "x_tensor # Isto é um TENSOR"
      ],
      "metadata": {
        "colab": {
          "base_uri": "https://localhost:8080/"
        },
        "id": "8p6SVl_j9HOw",
        "outputId": "7be6082a-bea8-4f04-d350-7ee835743463"
      },
      "execution_count": 37,
      "outputs": [
        {
          "output_type": "execute_result",
          "data": {
            "text/plain": [
              "tensor([[ 1,  2,  3],\n",
              "        [ 4,  5,  6],\n",
              "        [ 0, -1, -2]])"
            ]
          },
          "metadata": {},
          "execution_count": 37
        }
      ]
    },
    {
      "cell_type": "code",
      "source": [
        "x_tensor.numpy() # Isto é um ARRAY NumPy"
      ],
      "metadata": {
        "colab": {
          "base_uri": "https://localhost:8080/"
        },
        "id": "XSNR1_NK9pom",
        "outputId": "32d3ea0b-70a5-4ffc-d4d4-0e1e5c845cb8"
      },
      "execution_count": 38,
      "outputs": [
        {
          "output_type": "execute_result",
          "data": {
            "text/plain": [
              "array([[ 1,  2,  3],\n",
              "       [ 4,  5,  6],\n",
              "       [ 0, -1, -2]])"
            ]
          },
          "metadata": {},
          "execution_count": 38
        }
      ]
    },
    {
      "cell_type": "markdown",
      "source": [
        "<font color=\"orange\">Como podemos observar, um TENSOR de PYTORCH é muito similar a um ARRAY de NUMPY. Para mais detalhes e exemplos: [Ver Pytorch](https://pytorch.org/tutorials/beginner/blitz/tensor_tutorial.html#sphx-glr-beginner-blitz-tensor-tutorial-py)</font>"
      ],
      "metadata": {
        "id": "q2V_ZZvB9_e4"
      }
    },
    {
      "cell_type": "markdown",
      "source": [
        "# Autograd"
      ],
      "metadata": {
        "id": "aEPTK4sF-zYe"
      }
    },
    {
      "cell_type": "markdown",
      "source": [
        "Como temos visto acima, `Pytorch` é muito similar a `NumPy`. No entanto a funcionalidade de Pytorch vai muito além de uma estrutura de Dados eficiente com a que podemos fazer operações mais complexas (para isso já não é suficiente NumPy). A funcionalidade mais importante que Pytorch adiciona é conhecida como <font color=\"yellow\">autograd</font>, a qual nos proporciona a possibilidade de `calcular DERIVADAS` de maneira automática com respeito a qualquer Tensor. Isto dá a Pytorch um grande potencial para desenhar REDES NEURAIS complexas e treiná-las utilizando algoritmos de gradientes sem ter que calcular todas as derivadas manualmente (tal como foi feito em outros Scripts deste repositório). Para levar em ação estas operações, `Pytorch` vai construindo de maneira dinâmica um `GRAFO COMPUTACIONAL`. Cada vez que aplicamos uma operação sobre um ou vários Tensores, estos se adicionam ao Grafo Computacional junto à operação em concreto. Desta maneira, se queremos calcular a derivada de qualquer valor com respeito a qualquer tensor, simplesmente temos que aplicar o algoritmo de <font color=\"orange\">backpropagation</font> (que não é mais que a REGRA DA CADEIA da DERIVADA) no Grafo. \n",
        "\n",
        "Vejamos um exemplo:"
      ],
      "metadata": {
        "id": "jm22xqvw_H3A"
      }
    },
    {
      "cell_type": "code",
      "source": [
        "x = torch.tensor(1., requires_grad=True)\n",
        "y = torch.tensor(2., requires_grad=True)\n",
        "p = x + y\n",
        "\n",
        "z = torch.tensor(3., requires_grad=True)\n",
        "g = p * z"
      ],
      "metadata": {
        "id": "S1_XauJj9sK9"
      },
      "execution_count": 51,
      "outputs": []
    },
    {
      "cell_type": "markdown",
      "source": [
        "Na célula anterior definimos três Tensores: $x$, $y$ e $z$. Em primeiro lugar, para poder calcular derivadas com respeito a estes Tensores necessitamos colocar a propriedade `requires_grad` a `True`. Agora, podemos calcular o Tensor intermédio $p$ como $p = x  + y$ e logo usamos este valor para calcular o resultado final $g$ como $g = p*z$. Cada vez que aplicamos uma operação sobre um Tensor que tem a sua propriedade `requires_grad` a `True`, `Pytorch` irá construindo o `GRAFO COMPUTACIONAL`. \n",
        "\n",
        "\n",
        "O grafo teria a seguinte forma:"
      ],
      "metadata": {
        "id": "KDatqQ-PFdHs"
      }
    },
    {
      "cell_type": "markdown",
      "source": [
        "![](https://www.tutorialspoint.com/python_deep_learning/images/computational_graph_equation2.jpg)"
      ],
      "metadata": {
        "id": "zIUvvzvHFbT0"
      }
    },
    {
      "cell_type": "markdown",
      "source": [
        "Se queremos calcular as derivadas de $g$ com respeito a $x$, $y$ e $z$, será muito simples como chamar à função `backward`."
      ],
      "metadata": {
        "id": "W8JlS_RPMd_4"
      }
    },
    {
      "cell_type": "code",
      "source": [
        "g.backward()"
      ],
      "metadata": {
        "id": "DwlJSG8AEtYC"
      },
      "execution_count": 52,
      "outputs": []
    },
    {
      "cell_type": "markdown",
      "source": [
        "Neste ponto, `Pytorch` a aplicado o algoritmo de `backpropagation` sobre o grafo computacional, calculando todas as derivadas.\n",
        "\n",
        "$$ \\frac{dg}{dz} = p $$"
      ],
      "metadata": {
        "id": "NmmrKs0zNTlR"
      }
    },
    {
      "cell_type": "code",
      "source": [
        "z.grad"
      ],
      "metadata": {
        "colab": {
          "base_uri": "https://localhost:8080/"
        },
        "id": "376Ew0rUNEfd",
        "outputId": "c2732058-36a2-4922-bf34-4f631e7f7f02"
      },
      "execution_count": 53,
      "outputs": [
        {
          "output_type": "execute_result",
          "data": {
            "text/plain": [
              "tensor(3.)"
            ]
          },
          "metadata": {},
          "execution_count": 53
        }
      ]
    },
    {
      "cell_type": "markdown",
      "source": [
        "$$ \\frac{dg}{dx} = \\frac{dg}{dp} \\frac{dp}{dx} = z $$"
      ],
      "metadata": {
        "id": "UzL6hK2XOapt"
      }
    },
    {
      "cell_type": "code",
      "source": [
        "y.grad"
      ],
      "metadata": {
        "colab": {
          "base_uri": "https://localhost:8080/"
        },
        "id": "lIVoxU07OSIN",
        "outputId": "44257cb7-7a69-4d5e-8277-7debdaf357c2"
      },
      "execution_count": 54,
      "outputs": [
        {
          "output_type": "execute_result",
          "data": {
            "text/plain": [
              "tensor(3.)"
            ]
          },
          "metadata": {},
          "execution_count": 54
        }
      ]
    },
    {
      "cell_type": "markdown",
      "source": [
        "Como podemo ver, o `Grafo computacional` é uma ferramenta extraordinária para desenhar REDES NEURAIS de complexidade arbitrária. Com uma simples função, graças ao algoritmo de `backpropagation`, podemos calcular todas as DERIVADAS de maneira simples (cada nodo que representa uma operação só necessita calcular sua própria derivada de maneira local) e otimizar o modelo com nosso algoritmo de Gradiente preferido."
      ],
      "metadata": {
        "id": "kpQ9KJ1lOu1R"
      }
    },
    {
      "cell_type": "code",
      "source": [
        ""
      ],
      "metadata": {
        "id": "63AMfcUKPDCA"
      },
      "execution_count": null,
      "outputs": []
    },
    {
      "cell_type": "code",
      "source": [
        "https://www.youtube.com/watch?v=7sz4WpkUIIs\n",
        "\n",
        "https://insightlab.ufc.br/tutorial-pytorch-um-guia-rapido-para-voce-entender-agora-os-fundamentos-do-pytorch\n",
        "\n",
        "https://pytorch.org/tutorials/beginner/blitz/tensor_tutorial.html#sphx-glr-beginner-blitz-tensor-tutorial-py\n"
      ],
      "metadata": {
        "id": "bQAqFNClOqBq"
      },
      "execution_count": null,
      "outputs": []
    }
  ]
}