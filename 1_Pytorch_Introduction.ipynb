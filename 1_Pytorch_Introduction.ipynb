{
  "nbformat": 4,
  "nbformat_minor": 0,
  "metadata": {
    "colab": {
      "name": "1_Pytorch_Introduction.ipynb",
      "provenance": [],
      "collapsed_sections": [],
      "authorship_tag": "ABX9TyNdCkuoVkwwIfDis70NDNhs",
      "include_colab_link": true
    },
    "kernelspec": {
      "name": "python3",
      "display_name": "Python 3"
    },
    "language_info": {
      "name": "python"
    }
  },
  "cells": [
    {
      "cell_type": "markdown",
      "metadata": {
        "id": "view-in-github",
        "colab_type": "text"
      },
      "source": [
        "<a href=\"https://colab.research.google.com/github/EddyGiusepe/Pytorch/blob/main/1_Pytorch_Introduction.ipynb\" target=\"_parent\"><img src=\"https://colab.research.google.com/assets/colab-badge.svg\" alt=\"Open In Colab\"/></a>"
      ]
    },
    {
      "cell_type": "markdown",
      "source": [
        "<h2 align=\"center\">Pytorch: Introdução</h2>\n",
        "\n",
        "Data Scientist: Dr.Eddy Giusepe Chirinos Isidro"
      ],
      "metadata": {
        "id": "699R8fsZnXaC"
      }
    },
    {
      "cell_type": "markdown",
      "source": [
        "Em scripts anteriores estudamos os elementos fundamentais das REDES NEURAIS: o `Perceptron`, o algoritmo de `descenso por gradiente`, o `Perceptron Multicapa (MLP)`, etc. Agora, neste script estudaremos e aprenderemos a trabalhar com um dos Frameworks de Redes Neurais mais utilizados hoje em dia: [Pytorch](https://pytorch.org/). \n",
        "\n"
      ],
      "metadata": {
        "id": "nXuuvwgqnq1e"
      }
    },
    {
      "cell_type": "markdown",
      "source": [
        "![](https://tempodeinovacao.com.br/wp-content/uploads/2020/08/1_t6hCM90evdnlPw4l9VK3AQ.png)"
      ],
      "metadata": {
        "id": "jvuCBiyTp7Xy"
      }
    },
    {
      "cell_type": "code",
      "execution_count": null,
      "metadata": {
        "id": "79kZe4cDm9LF"
      },
      "outputs": [],
      "source": [
        "import torch"
      ]
    },
    {
      "cell_type": "markdown",
      "source": [
        "# O que é Pytorch?\n",
        "\n"
      ],
      "metadata": {
        "id": "tD4xWla_qtBg"
      }
    },
    {
      "cell_type": "markdown",
      "source": [
        "`Pytorch` é um Framework de Redes Neurais, um conjunto de bibliotecas e ferramentas que nos farão a vida mais fácil à hora de desenhar, treinar e colocar em produção nossos modelos de Deep Learning. Uma forma simples de entender o que é Pytorch é da seguinte maneira:\n",
        "\n",
        "$$ Pytorch = Numpy + Autograd + GPU $$\n",
        "\n",
        "Vamos ver que significa cada um destes termos:"
      ],
      "metadata": {
        "id": "--Mxj5AFtCFR"
      }
    },
    {
      "cell_type": "markdown",
      "source": [
        "# NumPy"
      ],
      "metadata": {
        "id": "r7vwPQf5s8Gh"
      }
    },
    {
      "cell_type": "markdown",
      "source": [
        "Talvez a característica mais relevante de `Pytorch` é a sua facilidade de uso. Isto é devido porque segue uma interface muito similar à de `NumPy`. Então, como já sabemos trabalhar com esta biblioteca não teremos muitos problemas de aprender a trabalhar com Pytorch.\n",
        "\n",
        "\n",
        "Da mesma maneira que em `NumPy` o objeto principal é o `ndarray`, em `Pytorch` o objeto principal é o `Tensor`. Podemos definir um Tensor de maneira similar a como a como definimos um array, incluso podemos inicializar Tensores a partir de arrays."
      ],
      "metadata": {
        "id": "sI2AUkDgtDi3"
      }
    },
    {
      "cell_type": "code",
      "source": [
        "# matriz de ceros, 5 filas y 3 columnas\n",
        "# 2D\n",
        "x = torch.zeros(5, 3)\n",
        "x"
      ],
      "metadata": {
        "colab": {
          "base_uri": "https://localhost:8080/"
        },
        "id": "BLPwmQb5qphM",
        "outputId": "42e696b0-5d5c-4645-cf9f-6007a4e34376"
      },
      "execution_count": null,
      "outputs": [
        {
          "output_type": "execute_result",
          "data": {
            "text/plain": [
              "tensor([[0., 0., 0.],\n",
              "        [0., 0., 0.],\n",
              "        [0., 0., 0.],\n",
              "        [0., 0., 0.],\n",
              "        [0., 0., 0.]])"
            ]
          },
          "metadata": {},
          "execution_count": 2
        }
      ]
    },
    {
      "cell_type": "code",
      "source": [
        "# tensor con valores aleatorios\n",
        "# Tensor tri-Dimensional\n",
        "x = torch.randn(5, 3, 2) # Teriamos 5 matrizes de 3 filas e 2 colunas \n",
        "x"
      ],
      "metadata": {
        "colab": {
          "base_uri": "https://localhost:8080/"
        },
        "id": "pTsRI7lPvsVI",
        "outputId": "d88cb677-4249-4c24-9073-e8aca918e06f"
      },
      "execution_count": null,
      "outputs": [
        {
          "output_type": "execute_result",
          "data": {
            "text/plain": [
              "tensor([[[ 0.7454, -0.4358],\n",
              "         [ 1.2365,  0.2008],\n",
              "         [-1.6090, -0.3643]],\n",
              "\n",
              "        [[-1.1939,  1.1576],\n",
              "         [ 0.5404, -1.1550],\n",
              "         [ 1.6152,  0.4150]],\n",
              "\n",
              "        [[-0.9192, -0.0813],\n",
              "         [-2.0401, -0.6476],\n",
              "         [ 1.6316, -0.6177]],\n",
              "\n",
              "        [[-0.1522,  0.4992],\n",
              "         [ 0.6662,  0.3713],\n",
              "         [-0.4244, -1.2104]],\n",
              "\n",
              "        [[ 0.3213,  1.2219],\n",
              "         [ 0.1201, -0.1264],\n",
              "         [-0.9218, -0.3413]]])"
            ]
          },
          "metadata": {},
          "execution_count": 3
        }
      ]
    },
    {
      "cell_type": "code",
      "source": [
        "# Tensor a partir de lista \n",
        "\n",
        "x_lista = [[1, 2, 3],[4, 5, 6]]\n",
        "x_lista, type(x_lista)\n",
        "\n"
      ],
      "metadata": {
        "colab": {
          "base_uri": "https://localhost:8080/"
        },
        "id": "tLdtl6aMvyJ1",
        "outputId": "0146fcf7-0f0b-4015-ca9e-5ce9a39c9078"
      },
      "execution_count": null,
      "outputs": [
        {
          "output_type": "execute_result",
          "data": {
            "text/plain": [
              "([[1, 2, 3], [4, 5, 6]], list)"
            ]
          },
          "metadata": {},
          "execution_count": 4
        }
      ]
    },
    {
      "cell_type": "code",
      "source": [
        "x_tensor = torch.tensor([[1, 2, 3],[4, 5, 6]])\n",
        "x_tensor, type(x_tensor)"
      ],
      "metadata": {
        "colab": {
          "base_uri": "https://localhost:8080/"
        },
        "id": "pA_yoJKQw6zG",
        "outputId": "d497dfa8-e7bc-4a9a-fe66-884da0e2beb9"
      },
      "execution_count": null,
      "outputs": [
        {
          "output_type": "execute_result",
          "data": {
            "text/plain": [
              "(tensor([[1, 2, 3],\n",
              "         [4, 5, 6]]), torch.Tensor)"
            ]
          },
          "metadata": {},
          "execution_count": 5
        }
      ]
    },
    {
      "cell_type": "code",
      "source": [
        "import numpy as np\n",
        "\n",
        "# tensor a partir de array\n",
        "\n",
        "a = np.array([[1, 2, 3],[4, 5, 6]])\n",
        "a, type(a)"
      ],
      "metadata": {
        "colab": {
          "base_uri": "https://localhost:8080/"
        },
        "id": "gr6ygA5kxkcA",
        "outputId": "06109ad4-42bc-41d2-de1f-cd7452e4ba6c"
      },
      "execution_count": null,
      "outputs": [
        {
          "output_type": "execute_result",
          "data": {
            "text/plain": [
              "(array([[1, 2, 3],\n",
              "        [4, 5, 6]]), numpy.ndarray)"
            ]
          },
          "metadata": {},
          "execution_count": 6
        }
      ]
    },
    {
      "cell_type": "code",
      "source": [
        "x = torch.from_numpy(a)\n",
        "x, type(x)"
      ],
      "metadata": {
        "colab": {
          "base_uri": "https://localhost:8080/"
        },
        "id": "nibTX9Qix4BE",
        "outputId": "af69535f-a720-49e4-f929-dca49acea310"
      },
      "execution_count": null,
      "outputs": [
        {
          "output_type": "execute_result",
          "data": {
            "text/plain": [
              "(tensor([[1, 2, 3],\n",
              "         [4, 5, 6]]), torch.Tensor)"
            ]
          },
          "metadata": {},
          "execution_count": 7
        }
      ]
    },
    {
      "cell_type": "markdown",
      "source": [
        "Podemos observar que praticamente todos os conceitos que já conhecemos de NumPy podem ser aplicados em Pytorch. Isto inclui operações `aritméticas`, `indexado` e `fatiado`, `iteração`, `vetorização` e [broadcating](https://machinelearningmastery.com/broadcasting-with-numpy-arrays/#:~:text=Broadcasting%20solves%20the%20problem%20of,different%20shapes%20during%20arithmetic%20operations.)."
      ],
      "metadata": {
        "id": "HNw50x7h0HJ-"
      }
    },
    {
      "cell_type": "code",
      "source": [
        "# Operações\n",
        "\n",
        "x = torch.randn(3, 3)\n",
        "y = torch.randn(3, 3)\n",
        "\n",
        "print(x)\n",
        "print(\"\")\n",
        "print(y)"
      ],
      "metadata": {
        "id": "BOuHhd47yIWn",
        "colab": {
          "base_uri": "https://localhost:8080/"
        },
        "outputId": "c844e5b4-3215-466f-f574-4303c6c1fa7c"
      },
      "execution_count": null,
      "outputs": [
        {
          "output_type": "stream",
          "name": "stdout",
          "text": [
            "tensor([[-0.9130,  0.2711,  0.4142],\n",
            "        [-1.4123,  0.0282,  0.3951],\n",
            "        [ 0.7062,  0.6292,  1.8321]])\n",
            "\n",
            "tensor([[-1.2193, -1.2867, -1.3751],\n",
            "        [ 0.6877,  0.9321, -0.3973],\n",
            "        [ 1.2168, -1.0941, -2.1025]])\n"
          ]
        }
      ]
    },
    {
      "cell_type": "code",
      "source": [
        "x + y"
      ],
      "metadata": {
        "colab": {
          "base_uri": "https://localhost:8080/"
        },
        "id": "NF2M9NrjqEpX",
        "outputId": "6cdd46b6-7194-40f2-f625-16703f1a4dac"
      },
      "execution_count": null,
      "outputs": [
        {
          "output_type": "execute_result",
          "data": {
            "text/plain": [
              "tensor([[-2.1322, -1.0156, -0.9609],\n",
              "        [-0.7246,  0.9603, -0.0023],\n",
              "        [ 1.9229, -0.4649, -0.2704]])"
            ]
          },
          "metadata": {},
          "execution_count": 12
        }
      ]
    },
    {
      "cell_type": "code",
      "source": [
        "# Outro exemplo \n",
        "x_tensor = torch.tensor([[1, 2, 3],[4, 5, 6], [0, -1, -2]])\n",
        "print(x_tensor)\n",
        "print(\"\")\n",
        "y_tensor = torch.tensor([[-1, -2, -3],[4, 5, 6], [0, -1, -2]])\n",
        "print(y_tensor)\n",
        "print(\"\")\n",
        "x_tensor + y_tensor"
      ],
      "metadata": {
        "colab": {
          "base_uri": "https://localhost:8080/"
        },
        "id": "_Xql5vgDqs-8",
        "outputId": "48204ff1-46c9-468a-d434-48bc3cdcff2d"
      },
      "execution_count": null,
      "outputs": [
        {
          "output_type": "stream",
          "name": "stdout",
          "text": [
            "tensor([[ 1,  2,  3],\n",
            "        [ 4,  5,  6],\n",
            "        [ 0, -1, -2]])\n",
            "\n",
            "tensor([[-1, -2, -3],\n",
            "        [ 4,  5,  6],\n",
            "        [ 0, -1, -2]])\n",
            "\n"
          ]
        },
        {
          "output_type": "execute_result",
          "data": {
            "text/plain": [
              "tensor([[ 0,  0,  0],\n",
              "        [ 8, 10, 12],\n",
              "        [ 0, -2, -4]])"
            ]
          },
          "metadata": {},
          "execution_count": 19
        }
      ]
    },
    {
      "cell_type": "code",
      "source": [
        "# indexado\n",
        "\n",
        "# primera fila\n",
        "\n",
        "x[0]"
      ],
      "metadata": {
        "colab": {
          "base_uri": "https://localhost:8080/"
        },
        "id": "Kk0hz1Kqr4BC",
        "outputId": "cf9f0645-fecb-4078-bc16-dc85d99fafd2"
      },
      "execution_count": null,
      "outputs": [
        {
          "output_type": "execute_result",
          "data": {
            "text/plain": [
              "tensor([-0.9130,  0.2711,  0.4142])"
            ]
          },
          "metadata": {},
          "execution_count": 20
        }
      ]
    },
    {
      "cell_type": "code",
      "source": [
        "x_tensor[0]"
      ],
      "metadata": {
        "colab": {
          "base_uri": "https://localhost:8080/"
        },
        "id": "DLlHBhaHsGFN",
        "outputId": "b41068f0-1dad-4691-8aba-b1c402f739be"
      },
      "execution_count": null,
      "outputs": [
        {
          "output_type": "execute_result",
          "data": {
            "text/plain": [
              "tensor([1, 2, 3])"
            ]
          },
          "metadata": {},
          "execution_count": 21
        }
      ]
    },
    {
      "cell_type": "code",
      "source": [
        "# primera fila, primera columna\n",
        "\n",
        "x[0, 0]"
      ],
      "metadata": {
        "colab": {
          "base_uri": "https://localhost:8080/"
        },
        "id": "8wMJEXB3sPys",
        "outputId": "8789fd45-6570-4ef0-e4b0-35d6cad71b8e"
      },
      "execution_count": null,
      "outputs": [
        {
          "output_type": "execute_result",
          "data": {
            "text/plain": [
              "tensor(-0.9130)"
            ]
          },
          "metadata": {},
          "execution_count": 22
        }
      ]
    },
    {
      "cell_type": "code",
      "source": [
        "x_tensor[0, 0]"
      ],
      "metadata": {
        "colab": {
          "base_uri": "https://localhost:8080/"
        },
        "id": "zYZX5zY9sX82",
        "outputId": "b05a4ab0-62d8-40bf-d79f-1d88c3cfdeaa"
      },
      "execution_count": null,
      "outputs": [
        {
          "output_type": "execute_result",
          "data": {
            "text/plain": [
              "tensor(1)"
            ]
          },
          "metadata": {},
          "execution_count": 23
        }
      ]
    },
    {
      "cell_type": "code",
      "source": [
        "# Primeira linha\n",
        "\n",
        "x[0, :]"
      ],
      "metadata": {
        "colab": {
          "base_uri": "https://localhost:8080/"
        },
        "id": "YyKqJJ0VscI6",
        "outputId": "9ae87b06-bc20-4e4a-dcd8-1d450ef80ea4"
      },
      "execution_count": null,
      "outputs": [
        {
          "output_type": "execute_result",
          "data": {
            "text/plain": [
              "tensor([-0.9130,  0.2711,  0.4142])"
            ]
          },
          "metadata": {},
          "execution_count": 27
        }
      ]
    },
    {
      "cell_type": "code",
      "source": [
        "x_tensor[0, :]"
      ],
      "metadata": {
        "colab": {
          "base_uri": "https://localhost:8080/"
        },
        "id": "5hiIq2Sxsim5",
        "outputId": "46acdbb6-ccb9-4591-ce85-fa3d4dd9b1b9"
      },
      "execution_count": null,
      "outputs": [
        {
          "output_type": "execute_result",
          "data": {
            "text/plain": [
              "tensor([1, 2, 3])"
            ]
          },
          "metadata": {},
          "execution_count": 28
        }
      ]
    },
    {
      "cell_type": "code",
      "source": [
        "# Primera coluna\n",
        "\n",
        "x_tensor[:, 0]"
      ],
      "metadata": {
        "colab": {
          "base_uri": "https://localhost:8080/"
        },
        "id": "k6jg3BMXsljD",
        "outputId": "ae382ec5-99de-477f-eb77-decc39d90594"
      },
      "execution_count": null,
      "outputs": [
        {
          "output_type": "execute_result",
          "data": {
            "text/plain": [
              "tensor([1, 4, 0])"
            ]
          },
          "metadata": {},
          "execution_count": 29
        }
      ]
    },
    {
      "cell_type": "markdown",
      "source": [
        "<font color=\"orange\">Fatiado</font>"
      ],
      "metadata": {
        "id": "n2-sDZUmxUeq"
      }
    },
    {
      "cell_type": "code",
      "source": [
        "# Fatiado\n",
        "\n",
        "x[:-1, 1:]"
      ],
      "metadata": {
        "colab": {
          "base_uri": "https://localhost:8080/"
        },
        "id": "4nA40qqqtUsX",
        "outputId": "8ff2a405-7748-4615-b9e3-4358489b3ccd"
      },
      "execution_count": null,
      "outputs": [
        {
          "output_type": "execute_result",
          "data": {
            "text/plain": [
              "tensor([[0.2711, 0.4142],\n",
              "        [0.0282, 0.3951]])"
            ]
          },
          "metadata": {},
          "execution_count": 30
        }
      ]
    },
    {
      "cell_type": "code",
      "source": [
        "x_tensor[: -1, 1:]"
      ],
      "metadata": {
        "colab": {
          "base_uri": "https://localhost:8080/"
        },
        "id": "zJdfsDs6tt3A",
        "outputId": "81325897-c6e6-4dd7-851c-48486bb6d1a3"
      },
      "execution_count": null,
      "outputs": [
        {
          "output_type": "execute_result",
          "data": {
            "text/plain": [
              "tensor([[2, 3],\n",
              "        [5, 6]])"
            ]
          },
          "metadata": {},
          "execution_count": 31
        }
      ]
    },
    {
      "cell_type": "code",
      "source": [
        "x_tensor[:2, :2]"
      ],
      "metadata": {
        "colab": {
          "base_uri": "https://localhost:8080/"
        },
        "id": "07h6lAOpt0tC",
        "outputId": "0ed5f021-7461-47d2-8b53-0efdac8930a6"
      },
      "execution_count": null,
      "outputs": [
        {
          "output_type": "execute_result",
          "data": {
            "text/plain": [
              "tensor([[1, 2],\n",
              "        [4, 5]])"
            ]
          },
          "metadata": {},
          "execution_count": 33
        }
      ]
    },
    {
      "cell_type": "code",
      "source": [
        "x_tensor[1:3, 1:3]"
      ],
      "metadata": {
        "colab": {
          "base_uri": "https://localhost:8080/"
        },
        "id": "iN9UMD6Bu2ql",
        "outputId": "0ca88f9f-30a2-4e4a-b694-5b36aed5afcb"
      },
      "execution_count": null,
      "outputs": [
        {
          "output_type": "execute_result",
          "data": {
            "text/plain": [
              "tensor([[ 5,  6],\n",
              "        [-1, -2]])"
            ]
          },
          "metadata": {},
          "execution_count": 41
        }
      ]
    },
    {
      "cell_type": "code",
      "source": [
        "x_tensor[1:3, 1:3]"
      ],
      "metadata": {
        "colab": {
          "base_uri": "https://localhost:8080/"
        },
        "id": "KCNrT2xWvPV0",
        "outputId": "aec0b5a0-198d-439f-a687-99b13894e4b1"
      },
      "execution_count": null,
      "outputs": [
        {
          "output_type": "execute_result",
          "data": {
            "text/plain": [
              "tensor([[ 5,  6],\n",
              "        [-1, -2]])"
            ]
          },
          "metadata": {},
          "execution_count": 43
        }
      ]
    },
    {
      "cell_type": "markdown",
      "source": [
        "<font color=\"orange\">Uma funcionalidade importante do objeto `Tensor` que usaremos muito é mudar a sua forma. Isto é possível com a função `view`.</font>"
      ],
      "metadata": {
        "id": "vaLtngmBxOcG"
      }
    },
    {
      "cell_type": "code",
      "source": [
        "x_tensor.shape"
      ],
      "metadata": {
        "colab": {
          "base_uri": "https://localhost:8080/"
        },
        "id": "f1Zz-W-8wi7D",
        "outputId": "688457d0-f7b4-4594-cbc7-76c521510f49"
      },
      "execution_count": null,
      "outputs": [
        {
          "output_type": "execute_result",
          "data": {
            "text/plain": [
              "torch.Size([3, 3])"
            ]
          },
          "metadata": {},
          "execution_count": 49
        }
      ]
    },
    {
      "cell_type": "code",
      "source": [
        "# Adicionamos uma dimensão extra\n",
        "\n",
        "x_tensor.view(1, 3, 3)"
      ],
      "metadata": {
        "colab": {
          "base_uri": "https://localhost:8080/"
        },
        "id": "509VY-9ryDth",
        "outputId": "f1fad294-117d-416f-ec8b-711e4412865e"
      },
      "execution_count": null,
      "outputs": [
        {
          "output_type": "execute_result",
          "data": {
            "text/plain": [
              "tensor([[[ 1,  2,  3],\n",
              "         [ 4,  5,  6],\n",
              "         [ 0, -1, -2]]])"
            ]
          },
          "metadata": {},
          "execution_count": 50
        }
      ]
    },
    {
      "cell_type": "code",
      "source": [
        "x_tensor.view(1, 3, 3).shape # 3D"
      ],
      "metadata": {
        "colab": {
          "base_uri": "https://localhost:8080/"
        },
        "id": "FbNF3kzNyWGP",
        "outputId": "529c1592-c4b2-4434-b453-8ca266b9e527"
      },
      "execution_count": null,
      "outputs": [
        {
          "output_type": "execute_result",
          "data": {
            "text/plain": [
              "torch.Size([1, 3, 3])"
            ]
          },
          "metadata": {},
          "execution_count": 51
        }
      ]
    },
    {
      "cell_type": "code",
      "source": [
        "# Esticamos em apenas uma Dimensão\n",
        "\n",
        "x_tensor.view(9) # 1D"
      ],
      "metadata": {
        "colab": {
          "base_uri": "https://localhost:8080/"
        },
        "id": "Ha-xMx9dyoyG",
        "outputId": "d3580f29-772d-4475-a7b2-cb3cf8672f23"
      },
      "execution_count": null,
      "outputs": [
        {
          "output_type": "execute_result",
          "data": {
            "text/plain": [
              "tensor([ 1,  2,  3,  4,  5,  6,  0, -1, -2])"
            ]
          },
          "metadata": {},
          "execution_count": 53
        }
      ]
    },
    {
      "cell_type": "code",
      "source": [
        "x_tensor.view(9).shape"
      ],
      "metadata": {
        "colab": {
          "base_uri": "https://localhost:8080/"
        },
        "id": "vuKiKYTDzTHD",
        "outputId": "f46d695c-b66a-4a3b-a9a7-7ea9d3811c0a"
      },
      "execution_count": null,
      "outputs": [
        {
          "output_type": "execute_result",
          "data": {
            "text/plain": [
              "torch.Size([9])"
            ]
          },
          "metadata": {},
          "execution_count": 55
        }
      ]
    },
    {
      "cell_type": "code",
      "source": [
        ""
      ],
      "metadata": {
        "id": "sR460CYOzf1p"
      },
      "execution_count": null,
      "outputs": []
    }
  ]
}